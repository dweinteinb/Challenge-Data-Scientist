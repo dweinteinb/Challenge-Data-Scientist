{
  "nbformat": 4,
  "nbformat_minor": 0,
  "metadata": {
    "colab": {
      "provenance": [],
      "toc_visible": true
    },
    "kernelspec": {
      "name": "python3",
      "display_name": "Python 3"
    },
    "language_info": {
      "name": "python"
    }
  },
  "cells": [
    {
      "cell_type": "markdown",
      "source": [
        "# Install libraries\n",
        "PYCARET is an auto-ML library. It runs many models, and performs hyper-parameter optimization, so it is great to explore how differrent models fit the data.\n",
        "However, it has many requierements. Like old versions of common libraries that need to be un-installed and then reinstalled."
      ],
      "metadata": {
        "id": "2C0cXGACNU_i"
      }
    },
    {
      "cell_type": "code",
      "source": [
        "# REQUIERES TO RE-START RUNTIME   - THIS IS WHY IT PUT IT FIRST IN THE CODE\n",
        "!pip install --pre pycaret                          # pre release version >=3.0.0rc4\n",
        "from pycaret.datasets import get_data               # classification requieres this module"
      ],
      "metadata": {
        "id": "HGrTuUbAKrAx"
      },
      "execution_count": null,
      "outputs": []
    },
    {
      "cell_type": "code",
      "source": [
        "from pycaret.classification import *                # RUN SEPARETLY. classification modules\n",
        "from pycaret.utils import version                   # print version\n",
        "print('Pycaret', version() )                        # current 3.0.0rc4\n",
        "!python --version                                   # current 3.8.16  -- just to check"
      ],
      "metadata": {
        "colab": {
          "base_uri": "https://localhost:8080/"
        },
        "id": "00x-8lEKQzmf",
        "outputId": "e99a1378-994c-4f93-e378-3a8cad79c91c"
      },
      "execution_count": 2,
      "outputs": [
        {
          "output_type": "stream",
          "name": "stdout",
          "text": [
            "Pycaret 3.0.0.rc4\n",
            "Python 3.8.16\n"
          ]
        }
      ]
    },
    {
      "cell_type": "markdown",
      "source": [
        "Mount GoogleDrive, where I put the input airport **dataset_SCL.csv** file"
      ],
      "metadata": {
        "id": "tD9bRYLER3Vw"
      }
    },
    {
      "cell_type": "code",
      "execution_count": 3,
      "metadata": {
        "id": "_g53WNl49Snb",
        "colab": {
          "base_uri": "https://localhost:8080/"
        },
        "outputId": "cf05e6f7-76bf-4620-a07f-f1f0352d8790"
      },
      "outputs": [
        {
          "output_type": "stream",
          "name": "stdout",
          "text": [
            "Mounted at /content/g/\n"
          ]
        }
      ],
      "source": [
        "# MOUNT GOOGLE DRIVE\n",
        "from google.colab import drive                          # to use Gdrive files\n",
        "drive.mount('/content/g/', force_remount=False)         # as root folder"
      ]
    },
    {
      "cell_type": "code",
      "source": [
        "# set working DIRECTORY\n",
        "%cd /content/g/MyDrive/Globant LATAM challenge\n",
        "print('\\n',end='') \n",
        "!ls"
      ],
      "metadata": {
        "colab": {
          "base_uri": "https://localhost:8080/"
        },
        "id": "0WUewKb_vp1y",
        "outputId": "5b191639-1080-49c9-ee99-bbc3fdde7803"
      },
      "execution_count": 4,
      "outputs": [
        {
          "output_type": "stream",
          "name": "stdout",
          "text": [
            "/content/g/MyDrive/Globant LATAM challenge\n",
            "\n",
            "'Challenge - Data Scientist.pdf'   solution.ipynb\n",
            " dataset_SCL.csv\t\t   synthetic_features.csv\n"
          ]
        }
      ]
    },
    {
      "cell_type": "markdown",
      "source": [
        "Install of other libraries that I might use"
      ],
      "metadata": {
        "id": "7wTCWaRbSeC1"
      }
    },
    {
      "cell_type": "code",
      "source": [
        "%%capture\n",
        "import pandas as pd\n",
        "import numpy as np                                  # not using it yet\n",
        "from datetime import datetime                       # to convert time from string to number\n",
        "import re                                           # REGEX to rename cell content\n",
        "\n",
        "\n",
        "# PLOTS\n",
        "import matplotlib.pyplot as plt\n",
        "import matplotlib as mpl                            # for color bars\n",
        "from matplotlib.ticker import MultipleLocator, AutoMinorLocator\n",
        "\n",
        "\n",
        "# MACHINE LEARNING\n",
        "!pip install sklearn\n",
        "from sklearn.model_selection import train_test_split, GridSearchCV\n",
        "from sklearn.neighbors       import KNeighborsClassifier  # for SFS\n",
        "from sklearn.linear_model    import LogisticRegression , RidgeClassifierCV\n",
        "from sklearn.ensemble        import RandomForestClassifier\n",
        "from sklearn.preprocessing   import StandardScaler, OneHotEncoder, KBinsDiscretizer     \n",
        "from sklearn.metrics         import accuracy_score, precision_score, recall_score, f1_score\n",
        "from sklearn.metrics         import classification_report, roc_curve, roc_auc_score, confusion_matrix\n",
        "from sklearn.compose         import ColumnTransformer\n",
        "from sklearn.pipeline        import Pipeline\n",
        "from imblearn.over_sampling  import SMOTE                               # for imbalenced samples\n",
        "#from sklearn.feature_selection import SequentialFeatureSelector        # feature selection wrapper\n",
        "#from mlxtend.feature_selection import SequentialFeatureSelector        # feature selection wrapper\n",
        "import statsmodels.api as sm\n",
        "\n",
        "# HTML DISPLAY\n",
        "from IPython.display import HTML, display\n",
        "def set_css():                                      # function to pre-warp results\n",
        "  display(HTML('''\n",
        "  <style>\n",
        "    pre {\n",
        "        white-space: pre-wrap;\n",
        "    }\n",
        "  </style>\n",
        "  '''))\n",
        "get_ipython().events.register('pre_run_cell', set_css)  # execute the pre-warpp"
      ],
      "metadata": {
        "id": "VV76VsUH9fCD"
      },
      "execution_count": 5,
      "outputs": []
    },
    {
      "cell_type": "markdown",
      "source": [
        "# import the dataset\n",
        "The **'dataset_SCL.csv'** files is converted from CSV to a PANDAS DataFrame, to analize it in detail.\n",
        "\n",
        "The name will be **airport_raw**."
      ],
      "metadata": {
        "id": "g6M7Qq_LUesp"
      }
    },
    {
      "cell_type": "code",
      "source": [
        "airport_raw = pd.read_csv( r'dataset_SCL.csv' , header=0 )\n",
        "display( airport_raw )"
      ],
      "metadata": {
        "id": "Oxs41eWo9nUz",
        "colab": {
          "base_uri": "https://localhost:8080/",
          "height": 424
        },
        "outputId": "91a8cc46-6966-4572-98e8-d4eac9a2dce2"
      },
      "execution_count": 6,
      "outputs": [
        {
          "output_type": "display_data",
          "data": {
            "text/plain": [
              "<IPython.core.display.HTML object>"
            ],
            "text/html": [
              "\n",
              "  <style>\n",
              "    pre {\n",
              "        white-space: pre-wrap;\n",
              "    }\n",
              "  </style>\n",
              "  "
            ]
          },
          "metadata": {}
        },
        {
          "output_type": "display_data",
          "data": {
            "text/plain": [
              "                   Fecha-I Vlo-I Ori-I Des-I Emp-I              Fecha-O  \\\n",
              "0      2017-01-01 23:30:00   226  SCEL  KMIA   AAL  2017-01-01 23:33:00   \n",
              "1      2017-01-02 23:30:00   226  SCEL  KMIA   AAL  2017-01-02 23:39:00   \n",
              "2      2017-01-03 23:30:00   226  SCEL  KMIA   AAL  2017-01-03 23:39:00   \n",
              "3      2017-01-04 23:30:00   226  SCEL  KMIA   AAL  2017-01-04 23:33:00   \n",
              "4      2017-01-05 23:30:00   226  SCEL  KMIA   AAL  2017-01-05 23:28:00   \n",
              "...                    ...   ...   ...   ...   ...                  ...   \n",
              "68201  2017-12-22 14:55:00   400  SCEL  SPJC   JAT  2017-12-22 15:41:00   \n",
              "68202  2017-12-25 14:55:00   400  SCEL  SPJC   JAT  2017-12-25 15:11:00   \n",
              "68203  2017-12-27 14:55:00   400  SCEL  SPJC   JAT  2017-12-27 15:35:00   \n",
              "68204  2017-12-29 14:55:00   400  SCEL  SPJC   JAT  2017-12-29 15:08:00   \n",
              "68205  2017-12-31 14:55:00   400  SCEL  SPJC   JAT  2017-12-31 15:04:00   \n",
              "\n",
              "       Vlo-O Ori-O Des-O Emp-O  DIA  MES   AÑO     DIANOM TIPOVUELO  \\\n",
              "0        226  SCEL  KMIA   AAL    1    1  2017    Domingo         I   \n",
              "1        226  SCEL  KMIA   AAL    2    1  2017      Lunes         I   \n",
              "2        226  SCEL  KMIA   AAL    3    1  2017     Martes         I   \n",
              "3        226  SCEL  KMIA   AAL    4    1  2017  Miercoles         I   \n",
              "4        226  SCEL  KMIA   AAL    5    1  2017     Jueves         I   \n",
              "...      ...   ...   ...   ...  ...  ...   ...        ...       ...   \n",
              "68201  400.0  SCEL  SPJC   JAT   22   12  2017    Viernes         I   \n",
              "68202  400.0  SCEL  SPJC   JAT   25   12  2017      Lunes         I   \n",
              "68203  400.0  SCEL  SPJC   JAT   27   12  2017  Miercoles         I   \n",
              "68204  400.0  SCEL  SPJC   JAT   29   12  2017    Viernes         I   \n",
              "68205  400.0  SCEL  SPJC   JAT   31   12  2017    Domingo         I   \n",
              "\n",
              "                   OPERA  SIGLAORI SIGLADES  \n",
              "0      American Airlines  Santiago    Miami  \n",
              "1      American Airlines  Santiago    Miami  \n",
              "2      American Airlines  Santiago    Miami  \n",
              "3      American Airlines  Santiago    Miami  \n",
              "4      American Airlines  Santiago    Miami  \n",
              "...                  ...       ...      ...  \n",
              "68201       JetSmart SPA  Santiago     Lima  \n",
              "68202       JetSmart SPA  Santiago     Lima  \n",
              "68203       JetSmart SPA  Santiago     Lima  \n",
              "68204       JetSmart SPA  Santiago     Lima  \n",
              "68205       JetSmart SPA  Santiago     Lima  \n",
              "\n",
              "[68206 rows x 18 columns]"
            ],
            "text/html": [
              "\n",
              "  <div id=\"df-be62b78c-cf68-4554-8922-22b7c4655f23\">\n",
              "    <div class=\"colab-df-container\">\n",
              "      <div>\n",
              "<style scoped>\n",
              "    .dataframe tbody tr th:only-of-type {\n",
              "        vertical-align: middle;\n",
              "    }\n",
              "\n",
              "    .dataframe tbody tr th {\n",
              "        vertical-align: top;\n",
              "    }\n",
              "\n",
              "    .dataframe thead th {\n",
              "        text-align: right;\n",
              "    }\n",
              "</style>\n",
              "<table border=\"1\" class=\"dataframe\">\n",
              "  <thead>\n",
              "    <tr style=\"text-align: right;\">\n",
              "      <th></th>\n",
              "      <th>Fecha-I</th>\n",
              "      <th>Vlo-I</th>\n",
              "      <th>Ori-I</th>\n",
              "      <th>Des-I</th>\n",
              "      <th>Emp-I</th>\n",
              "      <th>Fecha-O</th>\n",
              "      <th>Vlo-O</th>\n",
              "      <th>Ori-O</th>\n",
              "      <th>Des-O</th>\n",
              "      <th>Emp-O</th>\n",
              "      <th>DIA</th>\n",
              "      <th>MES</th>\n",
              "      <th>AÑO</th>\n",
              "      <th>DIANOM</th>\n",
              "      <th>TIPOVUELO</th>\n",
              "      <th>OPERA</th>\n",
              "      <th>SIGLAORI</th>\n",
              "      <th>SIGLADES</th>\n",
              "    </tr>\n",
              "  </thead>\n",
              "  <tbody>\n",
              "    <tr>\n",
              "      <th>0</th>\n",
              "      <td>2017-01-01 23:30:00</td>\n",
              "      <td>226</td>\n",
              "      <td>SCEL</td>\n",
              "      <td>KMIA</td>\n",
              "      <td>AAL</td>\n",
              "      <td>2017-01-01 23:33:00</td>\n",
              "      <td>226</td>\n",
              "      <td>SCEL</td>\n",
              "      <td>KMIA</td>\n",
              "      <td>AAL</td>\n",
              "      <td>1</td>\n",
              "      <td>1</td>\n",
              "      <td>2017</td>\n",
              "      <td>Domingo</td>\n",
              "      <td>I</td>\n",
              "      <td>American Airlines</td>\n",
              "      <td>Santiago</td>\n",
              "      <td>Miami</td>\n",
              "    </tr>\n",
              "    <tr>\n",
              "      <th>1</th>\n",
              "      <td>2017-01-02 23:30:00</td>\n",
              "      <td>226</td>\n",
              "      <td>SCEL</td>\n",
              "      <td>KMIA</td>\n",
              "      <td>AAL</td>\n",
              "      <td>2017-01-02 23:39:00</td>\n",
              "      <td>226</td>\n",
              "      <td>SCEL</td>\n",
              "      <td>KMIA</td>\n",
              "      <td>AAL</td>\n",
              "      <td>2</td>\n",
              "      <td>1</td>\n",
              "      <td>2017</td>\n",
              "      <td>Lunes</td>\n",
              "      <td>I</td>\n",
              "      <td>American Airlines</td>\n",
              "      <td>Santiago</td>\n",
              "      <td>Miami</td>\n",
              "    </tr>\n",
              "    <tr>\n",
              "      <th>2</th>\n",
              "      <td>2017-01-03 23:30:00</td>\n",
              "      <td>226</td>\n",
              "      <td>SCEL</td>\n",
              "      <td>KMIA</td>\n",
              "      <td>AAL</td>\n",
              "      <td>2017-01-03 23:39:00</td>\n",
              "      <td>226</td>\n",
              "      <td>SCEL</td>\n",
              "      <td>KMIA</td>\n",
              "      <td>AAL</td>\n",
              "      <td>3</td>\n",
              "      <td>1</td>\n",
              "      <td>2017</td>\n",
              "      <td>Martes</td>\n",
              "      <td>I</td>\n",
              "      <td>American Airlines</td>\n",
              "      <td>Santiago</td>\n",
              "      <td>Miami</td>\n",
              "    </tr>\n",
              "    <tr>\n",
              "      <th>3</th>\n",
              "      <td>2017-01-04 23:30:00</td>\n",
              "      <td>226</td>\n",
              "      <td>SCEL</td>\n",
              "      <td>KMIA</td>\n",
              "      <td>AAL</td>\n",
              "      <td>2017-01-04 23:33:00</td>\n",
              "      <td>226</td>\n",
              "      <td>SCEL</td>\n",
              "      <td>KMIA</td>\n",
              "      <td>AAL</td>\n",
              "      <td>4</td>\n",
              "      <td>1</td>\n",
              "      <td>2017</td>\n",
              "      <td>Miercoles</td>\n",
              "      <td>I</td>\n",
              "      <td>American Airlines</td>\n",
              "      <td>Santiago</td>\n",
              "      <td>Miami</td>\n",
              "    </tr>\n",
              "    <tr>\n",
              "      <th>4</th>\n",
              "      <td>2017-01-05 23:30:00</td>\n",
              "      <td>226</td>\n",
              "      <td>SCEL</td>\n",
              "      <td>KMIA</td>\n",
              "      <td>AAL</td>\n",
              "      <td>2017-01-05 23:28:00</td>\n",
              "      <td>226</td>\n",
              "      <td>SCEL</td>\n",
              "      <td>KMIA</td>\n",
              "      <td>AAL</td>\n",
              "      <td>5</td>\n",
              "      <td>1</td>\n",
              "      <td>2017</td>\n",
              "      <td>Jueves</td>\n",
              "      <td>I</td>\n",
              "      <td>American Airlines</td>\n",
              "      <td>Santiago</td>\n",
              "      <td>Miami</td>\n",
              "    </tr>\n",
              "    <tr>\n",
              "      <th>...</th>\n",
              "      <td>...</td>\n",
              "      <td>...</td>\n",
              "      <td>...</td>\n",
              "      <td>...</td>\n",
              "      <td>...</td>\n",
              "      <td>...</td>\n",
              "      <td>...</td>\n",
              "      <td>...</td>\n",
              "      <td>...</td>\n",
              "      <td>...</td>\n",
              "      <td>...</td>\n",
              "      <td>...</td>\n",
              "      <td>...</td>\n",
              "      <td>...</td>\n",
              "      <td>...</td>\n",
              "      <td>...</td>\n",
              "      <td>...</td>\n",
              "      <td>...</td>\n",
              "    </tr>\n",
              "    <tr>\n",
              "      <th>68201</th>\n",
              "      <td>2017-12-22 14:55:00</td>\n",
              "      <td>400</td>\n",
              "      <td>SCEL</td>\n",
              "      <td>SPJC</td>\n",
              "      <td>JAT</td>\n",
              "      <td>2017-12-22 15:41:00</td>\n",
              "      <td>400.0</td>\n",
              "      <td>SCEL</td>\n",
              "      <td>SPJC</td>\n",
              "      <td>JAT</td>\n",
              "      <td>22</td>\n",
              "      <td>12</td>\n",
              "      <td>2017</td>\n",
              "      <td>Viernes</td>\n",
              "      <td>I</td>\n",
              "      <td>JetSmart SPA</td>\n",
              "      <td>Santiago</td>\n",
              "      <td>Lima</td>\n",
              "    </tr>\n",
              "    <tr>\n",
              "      <th>68202</th>\n",
              "      <td>2017-12-25 14:55:00</td>\n",
              "      <td>400</td>\n",
              "      <td>SCEL</td>\n",
              "      <td>SPJC</td>\n",
              "      <td>JAT</td>\n",
              "      <td>2017-12-25 15:11:00</td>\n",
              "      <td>400.0</td>\n",
              "      <td>SCEL</td>\n",
              "      <td>SPJC</td>\n",
              "      <td>JAT</td>\n",
              "      <td>25</td>\n",
              "      <td>12</td>\n",
              "      <td>2017</td>\n",
              "      <td>Lunes</td>\n",
              "      <td>I</td>\n",
              "      <td>JetSmart SPA</td>\n",
              "      <td>Santiago</td>\n",
              "      <td>Lima</td>\n",
              "    </tr>\n",
              "    <tr>\n",
              "      <th>68203</th>\n",
              "      <td>2017-12-27 14:55:00</td>\n",
              "      <td>400</td>\n",
              "      <td>SCEL</td>\n",
              "      <td>SPJC</td>\n",
              "      <td>JAT</td>\n",
              "      <td>2017-12-27 15:35:00</td>\n",
              "      <td>400.0</td>\n",
              "      <td>SCEL</td>\n",
              "      <td>SPJC</td>\n",
              "      <td>JAT</td>\n",
              "      <td>27</td>\n",
              "      <td>12</td>\n",
              "      <td>2017</td>\n",
              "      <td>Miercoles</td>\n",
              "      <td>I</td>\n",
              "      <td>JetSmart SPA</td>\n",
              "      <td>Santiago</td>\n",
              "      <td>Lima</td>\n",
              "    </tr>\n",
              "    <tr>\n",
              "      <th>68204</th>\n",
              "      <td>2017-12-29 14:55:00</td>\n",
              "      <td>400</td>\n",
              "      <td>SCEL</td>\n",
              "      <td>SPJC</td>\n",
              "      <td>JAT</td>\n",
              "      <td>2017-12-29 15:08:00</td>\n",
              "      <td>400.0</td>\n",
              "      <td>SCEL</td>\n",
              "      <td>SPJC</td>\n",
              "      <td>JAT</td>\n",
              "      <td>29</td>\n",
              "      <td>12</td>\n",
              "      <td>2017</td>\n",
              "      <td>Viernes</td>\n",
              "      <td>I</td>\n",
              "      <td>JetSmart SPA</td>\n",
              "      <td>Santiago</td>\n",
              "      <td>Lima</td>\n",
              "    </tr>\n",
              "    <tr>\n",
              "      <th>68205</th>\n",
              "      <td>2017-12-31 14:55:00</td>\n",
              "      <td>400</td>\n",
              "      <td>SCEL</td>\n",
              "      <td>SPJC</td>\n",
              "      <td>JAT</td>\n",
              "      <td>2017-12-31 15:04:00</td>\n",
              "      <td>400.0</td>\n",
              "      <td>SCEL</td>\n",
              "      <td>SPJC</td>\n",
              "      <td>JAT</td>\n",
              "      <td>31</td>\n",
              "      <td>12</td>\n",
              "      <td>2017</td>\n",
              "      <td>Domingo</td>\n",
              "      <td>I</td>\n",
              "      <td>JetSmart SPA</td>\n",
              "      <td>Santiago</td>\n",
              "      <td>Lima</td>\n",
              "    </tr>\n",
              "  </tbody>\n",
              "</table>\n",
              "<p>68206 rows × 18 columns</p>\n",
              "</div>\n",
              "      <button class=\"colab-df-convert\" onclick=\"convertToInteractive('df-be62b78c-cf68-4554-8922-22b7c4655f23')\"\n",
              "              title=\"Convert this dataframe to an interactive table.\"\n",
              "              style=\"display:none;\">\n",
              "        \n",
              "  <svg xmlns=\"http://www.w3.org/2000/svg\" height=\"24px\"viewBox=\"0 0 24 24\"\n",
              "       width=\"24px\">\n",
              "    <path d=\"M0 0h24v24H0V0z\" fill=\"none\"/>\n",
              "    <path d=\"M18.56 5.44l.94 2.06.94-2.06 2.06-.94-2.06-.94-.94-2.06-.94 2.06-2.06.94zm-11 1L8.5 8.5l.94-2.06 2.06-.94-2.06-.94L8.5 2.5l-.94 2.06-2.06.94zm10 10l.94 2.06.94-2.06 2.06-.94-2.06-.94-.94-2.06-.94 2.06-2.06.94z\"/><path d=\"M17.41 7.96l-1.37-1.37c-.4-.4-.92-.59-1.43-.59-.52 0-1.04.2-1.43.59L10.3 9.45l-7.72 7.72c-.78.78-.78 2.05 0 2.83L4 21.41c.39.39.9.59 1.41.59.51 0 1.02-.2 1.41-.59l7.78-7.78 2.81-2.81c.8-.78.8-2.07 0-2.86zM5.41 20L4 18.59l7.72-7.72 1.47 1.35L5.41 20z\"/>\n",
              "  </svg>\n",
              "      </button>\n",
              "      \n",
              "  <style>\n",
              "    .colab-df-container {\n",
              "      display:flex;\n",
              "      flex-wrap:wrap;\n",
              "      gap: 12px;\n",
              "    }\n",
              "\n",
              "    .colab-df-convert {\n",
              "      background-color: #E8F0FE;\n",
              "      border: none;\n",
              "      border-radius: 50%;\n",
              "      cursor: pointer;\n",
              "      display: none;\n",
              "      fill: #1967D2;\n",
              "      height: 32px;\n",
              "      padding: 0 0 0 0;\n",
              "      width: 32px;\n",
              "    }\n",
              "\n",
              "    .colab-df-convert:hover {\n",
              "      background-color: #E2EBFA;\n",
              "      box-shadow: 0px 1px 2px rgba(60, 64, 67, 0.3), 0px 1px 3px 1px rgba(60, 64, 67, 0.15);\n",
              "      fill: #174EA6;\n",
              "    }\n",
              "\n",
              "    [theme=dark] .colab-df-convert {\n",
              "      background-color: #3B4455;\n",
              "      fill: #D2E3FC;\n",
              "    }\n",
              "\n",
              "    [theme=dark] .colab-df-convert:hover {\n",
              "      background-color: #434B5C;\n",
              "      box-shadow: 0px 1px 3px 1px rgba(0, 0, 0, 0.15);\n",
              "      filter: drop-shadow(0px 1px 2px rgba(0, 0, 0, 0.3));\n",
              "      fill: #FFFFFF;\n",
              "    }\n",
              "  </style>\n",
              "\n",
              "      <script>\n",
              "        const buttonEl =\n",
              "          document.querySelector('#df-be62b78c-cf68-4554-8922-22b7c4655f23 button.colab-df-convert');\n",
              "        buttonEl.style.display =\n",
              "          google.colab.kernel.accessAllowed ? 'block' : 'none';\n",
              "\n",
              "        async function convertToInteractive(key) {\n",
              "          const element = document.querySelector('#df-be62b78c-cf68-4554-8922-22b7c4655f23');\n",
              "          const dataTable =\n",
              "            await google.colab.kernel.invokeFunction('convertToInteractive',\n",
              "                                                     [key], {});\n",
              "          if (!dataTable) return;\n",
              "\n",
              "          const docLinkHtml = 'Like what you see? Visit the ' +\n",
              "            '<a target=\"_blank\" href=https://colab.research.google.com/notebooks/data_table.ipynb>data table notebook</a>'\n",
              "            + ' to learn more about interactive tables.';\n",
              "          element.innerHTML = '';\n",
              "          dataTable['output_type'] = 'display_data';\n",
              "          await google.colab.output.renderOutput(dataTable, element);\n",
              "          const docLink = document.createElement('div');\n",
              "          docLink.innerHTML = docLinkHtml;\n",
              "          element.appendChild(docLink);\n",
              "        }\n",
              "      </script>\n",
              "    </div>\n",
              "  </div>\n",
              "  "
            ]
          },
          "metadata": {}
        }
      ]
    },
    {
      "cell_type": "markdown",
      "source": [
        "Check the data type"
      ],
      "metadata": {
        "id": "GuP7sskP0PsU"
      }
    },
    {
      "cell_type": "code",
      "source": [
        "airport_raw.info()                                "
      ],
      "metadata": {
        "colab": {
          "base_uri": "https://localhost:8080/",
          "height": 451
        },
        "id": "xTvU38eWz94L",
        "outputId": "ebab4586-02ba-4a47-bb5c-a46413e96588"
      },
      "execution_count": 7,
      "outputs": [
        {
          "output_type": "display_data",
          "data": {
            "text/plain": [
              "<IPython.core.display.HTML object>"
            ],
            "text/html": [
              "\n",
              "  <style>\n",
              "    pre {\n",
              "        white-space: pre-wrap;\n",
              "    }\n",
              "  </style>\n",
              "  "
            ]
          },
          "metadata": {}
        },
        {
          "output_type": "stream",
          "name": "stdout",
          "text": [
            "<class 'pandas.core.frame.DataFrame'>\n",
            "RangeIndex: 68206 entries, 0 to 68205\n",
            "Data columns (total 18 columns):\n",
            " #   Column     Non-Null Count  Dtype \n",
            "---  ------     --------------  ----- \n",
            " 0   Fecha-I    68206 non-null  object\n",
            " 1   Vlo-I      68206 non-null  object\n",
            " 2   Ori-I      68206 non-null  object\n",
            " 3   Des-I      68206 non-null  object\n",
            " 4   Emp-I      68206 non-null  object\n",
            " 5   Fecha-O    68206 non-null  object\n",
            " 6   Vlo-O      68205 non-null  object\n",
            " 7   Ori-O      68206 non-null  object\n",
            " 8   Des-O      68206 non-null  object\n",
            " 9   Emp-O      68206 non-null  object\n",
            " 10  DIA        68206 non-null  int64 \n",
            " 11  MES        68206 non-null  int64 \n",
            " 12  AÑO        68206 non-null  int64 \n",
            " 13  DIANOM     68206 non-null  object\n",
            " 14  TIPOVUELO  68206 non-null  object\n",
            " 15  OPERA      68206 non-null  object\n",
            " 16  SIGLAORI   68206 non-null  object\n",
            " 17  SIGLADES   68206 non-null  object\n",
            "dtypes: int64(3), object(15)\n",
            "memory usage: 9.4+ MB\n"
          ]
        }
      ]
    },
    {
      "cell_type": "markdown",
      "source": [
        "Extract the name of the columns into the list **cols_raw**"
      ],
      "metadata": {
        "id": "55eKDouCxXl6"
      }
    },
    {
      "cell_type": "code",
      "source": [
        "cols_raw = list( airport_raw.columns )      # LIST of COL names\n",
        "#cols_raw = list( filter(None, airport_raw.columns ))\n",
        "print('\\033[1m','airpot_raw columns (', len(cols_raw ),  '):\\n','\\033[0m', sep='')\n",
        "print( cols_raw )"
      ],
      "metadata": {
        "colab": {
          "base_uri": "https://localhost:8080/",
          "height": 69
        },
        "id": "WFT7cMANW9Kd",
        "outputId": "09a3efef-7576-493f-cc0e-00ce88dcc09e"
      },
      "execution_count": 8,
      "outputs": [
        {
          "output_type": "display_data",
          "data": {
            "text/plain": [
              "<IPython.core.display.HTML object>"
            ],
            "text/html": [
              "\n",
              "  <style>\n",
              "    pre {\n",
              "        white-space: pre-wrap;\n",
              "    }\n",
              "  </style>\n",
              "  "
            ]
          },
          "metadata": {}
        },
        {
          "output_type": "stream",
          "name": "stdout",
          "text": [
            "\u001b[1mairpot_raw columns (18):\n",
            "\u001b[0m\n",
            "['Fecha-I', 'Vlo-I', 'Ori-I', 'Des-I', 'Emp-I', 'Fecha-O', 'Vlo-O', 'Ori-O', 'Des-O', 'Emp-O', 'DIA', 'MES', 'AÑO', 'DIANOM', 'TIPOVUELO', 'OPERA', 'SIGLAORI', 'SIGLADES']\n"
          ]
        }
      ]
    },
    {
      "cell_type": "markdown",
      "source": [
        "# Check the data"
      ],
      "metadata": {
        "id": "TBPMVn4lU7ZZ"
      }
    },
    {
      "cell_type": "code",
      "source": [
        "cols_raw = list( airport_raw.columns )"
      ],
      "metadata": {
        "colab": {
          "base_uri": "https://localhost:8080/",
          "height": 17
        },
        "id": "dQfNlbb69oNB",
        "outputId": "bf4a1958-7669-4dd0-a4eb-219e774b7e81"
      },
      "execution_count": 9,
      "outputs": [
        {
          "output_type": "display_data",
          "data": {
            "text/plain": [
              "<IPython.core.display.HTML object>"
            ],
            "text/html": [
              "\n",
              "  <style>\n",
              "    pre {\n",
              "        white-space: pre-wrap;\n",
              "    }\n",
              "  </style>\n",
              "  "
            ]
          },
          "metadata": {}
        }
      ]
    },
    {
      "cell_type": "code",
      "source": [
        "def func_col_stats ( df ) :                            # 'col'\n",
        "\n",
        "    \"\"\" INPUT : dataframe\n",
        "        OUTPUT: number of unique elements in each column  \"\"\"\n",
        "    \n",
        "    # print generalities of the DataFrame\n",
        "    print('Contains ','\\033[1m', f\"{df.shape[0]:,d}\" , ' rows ','\\033[0m','and ','\\033[1m', f\"{df.shape[1]:,d}\", ' columns', '\\033[0m', sep='')\n",
        "    total_cells = df.shape[0] * df.shape[1]     # total number of cells int he csv\n",
        "    empty_cells = df.isnull().sum().sum()\n",
        "    percentage = empty_cells * 100 / total_cells        # % of empty cells int he csv\n",
        "    print(\"a total of\",'\\033[1m',  f\"{total_cells:,d}\", 'cells','\\033[0m', end=\" \")\n",
        "    print(\", of which\",'\\033[1m', f\"{empty_cells:,d}\" ,'\\033[0m', end=\" \")\n",
        "    print('(', \"{:.1f}\".format(percentage), ' %)', ' are empty.','\\n', sep=\"\")\n",
        "\n",
        "    cols = list( df.columns )\n",
        "\n",
        "    # print specific data for each column of the DataFrame\n",
        "    for col in cols :\n",
        "        print('Column: \\t\\t','\\033[1m', df[col] .name,  '\\033[0m',sep=\"\" )      # print COL name\n",
        "        distinct = df[col] .value_counts(dropna=False)\n",
        "        print( '\\033[3m','Distinct elements:\\t','\\033[0m', '{:,.0f}'.format(len( distinct )), sep='')                    # print whole value count\n",
        "        #if df[col] .dtypes == 'O' :\n",
        "        #    print( '\\033[3m','Most frecuent    :\\t','\\033[0m', df[col] .value_counts()[0].index.tolist() )\n",
        "\n",
        "        #print( len(distinct).map('{:,.0f}'.format).to_string())                     # print whole value count\n",
        "        print('\\n', end='')\n",
        "\n"
      ],
      "metadata": {
        "colab": {
          "base_uri": "https://localhost:8080/",
          "height": 17
        },
        "id": "vh2Mn-TZVHGa",
        "outputId": "d1409f1f-bfa4-4f7a-daf7-e9321877e791"
      },
      "execution_count": 10,
      "outputs": [
        {
          "output_type": "display_data",
          "data": {
            "text/plain": [
              "<IPython.core.display.HTML object>"
            ],
            "text/html": [
              "\n",
              "  <style>\n",
              "    pre {\n",
              "        white-space: pre-wrap;\n",
              "    }\n",
              "  </style>\n",
              "  "
            ]
          },
          "metadata": {}
        }
      ]
    },
    {
      "cell_type": "code",
      "source": [
        "func_col_stats ( airport_raw )"
      ],
      "metadata": {
        "colab": {
          "base_uri": "https://localhost:8080/",
          "height": 1000
        },
        "id": "WY1Guk77VLNI",
        "outputId": "2a51c648-83e8-4030-ac1e-9fe3ae1eceeb"
      },
      "execution_count": 13,
      "outputs": [
        {
          "output_type": "display_data",
          "data": {
            "text/plain": [
              "<IPython.core.display.HTML object>"
            ],
            "text/html": [
              "\n",
              "  <style>\n",
              "    pre {\n",
              "        white-space: pre-wrap;\n",
              "    }\n",
              "  </style>\n",
              "  "
            ]
          },
          "metadata": {}
        },
        {
          "output_type": "stream",
          "name": "stdout",
          "text": [
            "Contains \u001b[1m68,206 rows \u001b[0mand \u001b[1m18 columns\u001b[0m\n",
            "a total of \u001b[1m 1,227,708 cells \u001b[0m , of which \u001b[1m 1 \u001b[0m (0.0 %) are empty.\n",
            "\n",
            "Column: \t\t\u001b[1mFecha-I\u001b[0m\n",
            "\u001b[3mDistinct elements:\t\u001b[0m53,252\n",
            "\n",
            "Column: \t\t\u001b[1mVlo-I\u001b[0m\n",
            "\u001b[3mDistinct elements:\t\u001b[0m750\n",
            "\n",
            "Column: \t\t\u001b[1mOri-I\u001b[0m\n",
            "\u001b[3mDistinct elements:\t\u001b[0m1\n",
            "\n",
            "Column: \t\t\u001b[1mDes-I\u001b[0m\n",
            "\u001b[3mDistinct elements:\t\u001b[0m64\n",
            "\n",
            "Column: \t\t\u001b[1mEmp-I\u001b[0m\n",
            "\u001b[3mDistinct elements:\t\u001b[0m30\n",
            "\n",
            "Column: \t\t\u001b[1mFecha-O\u001b[0m\n",
            "\u001b[3mDistinct elements:\t\u001b[0m62,774\n",
            "\n",
            "Column: \t\t\u001b[1mVlo-O\u001b[0m\n",
            "\u001b[3mDistinct elements:\t\u001b[0m867\n",
            "\n",
            "Column: \t\t\u001b[1mOri-O\u001b[0m\n",
            "\u001b[3mDistinct elements:\t\u001b[0m1\n",
            "\n",
            "Column: \t\t\u001b[1mDes-O\u001b[0m\n",
            "\u001b[3mDistinct elements:\t\u001b[0m63\n",
            "\n",
            "Column: \t\t\u001b[1mEmp-O\u001b[0m\n",
            "\u001b[3mDistinct elements:\t\u001b[0m32\n",
            "\n",
            "Column: \t\t\u001b[1mDIA\u001b[0m\n",
            "\u001b[3mDistinct elements:\t\u001b[0m31\n",
            "\n",
            "Column: \t\t\u001b[1mMES\u001b[0m\n",
            "\u001b[3mDistinct elements:\t\u001b[0m12\n",
            "\n",
            "Column: \t\t\u001b[1mAÑO\u001b[0m\n",
            "\u001b[3mDistinct elements:\t\u001b[0m2\n",
            "\n",
            "Column: \t\t\u001b[1mDIANOM\u001b[0m\n",
            "\u001b[3mDistinct elements:\t\u001b[0m7\n",
            "\n",
            "Column: \t\t\u001b[1mTIPOVUELO\u001b[0m\n",
            "\u001b[3mDistinct elements:\t\u001b[0m2\n",
            "\n",
            "Column: \t\t\u001b[1mOPERA\u001b[0m\n",
            "\u001b[3mDistinct elements:\t\u001b[0m23\n",
            "\n",
            "Column: \t\t\u001b[1mSIGLAORI\u001b[0m\n",
            "\u001b[3mDistinct elements:\t\u001b[0m1\n",
            "\n",
            "Column: \t\t\u001b[1mSIGLADES\u001b[0m\n",
            "\u001b[3mDistinct elements:\t\u001b[0m62\n",
            "\n"
          ]
        }
      ]
    },
    {
      "cell_type": "markdown",
      "source": [],
      "metadata": {
        "id": "BRUu4HzbGgcY"
      }
    },
    {
      "cell_type": "markdown",
      "source": [
        "# consolidation"
      ],
      "metadata": {
        "id": "QmkW1xTCUHBQ"
      }
    },
    {
      "cell_type": "markdown",
      "source": [
        "First, lets make a copy of the pandas dataframe, since we are going to modify the data.\n",
        "\n",
        "I do this to prevent operating over an already modified data, wich could accumulate errors easily"
      ],
      "metadata": {
        "id": "UbGgs_MkUvvT"
      }
    },
    {
      "cell_type": "code",
      "source": [
        "airport = airport_raw.copy(deep=True) "
      ],
      "metadata": {
        "colab": {
          "base_uri": "https://localhost:8080/",
          "height": 17
        },
        "id": "h4oFPV3fUsl9",
        "outputId": "db4722b9-9e59-45fc-c29d-bc55f854ccd0"
      },
      "execution_count": 14,
      "outputs": [
        {
          "output_type": "display_data",
          "data": {
            "text/plain": [
              "<IPython.core.display.HTML object>"
            ],
            "text/html": [
              "\n",
              "  <style>\n",
              "    pre {\n",
              "        white-space: pre-wrap;\n",
              "    }\n",
              "  </style>\n",
              "  "
            ]
          },
          "metadata": {}
        }
      ]
    },
    {
      "cell_type": "markdown",
      "source": [
        "Printing the first element of the 'Fecha-I' column, we can see that time is a sting, and we need to change it to time class in order to make calculations"
      ],
      "metadata": {
        "id": "RczMyJV9UTzu"
      }
    },
    {
      "cell_type": "code",
      "source": [
        "airport['Fecha-I'][0]"
      ],
      "metadata": {
        "colab": {
          "base_uri": "https://localhost:8080/",
          "height": 35
        },
        "id": "l8pwlq1nUQNr",
        "outputId": "76976ebe-89c7-428d-a8c7-b7783c22a0f1"
      },
      "execution_count": 15,
      "outputs": [
        {
          "output_type": "display_data",
          "data": {
            "text/plain": [
              "<IPython.core.display.HTML object>"
            ],
            "text/html": [
              "\n",
              "  <style>\n",
              "    pre {\n",
              "        white-space: pre-wrap;\n",
              "    }\n",
              "  </style>\n",
              "  "
            ]
          },
          "metadata": {}
        },
        {
          "output_type": "execute_result",
          "data": {
            "text/plain": [
              "'2017-01-01 23:30:00'"
            ],
            "application/vnd.google.colaboratory.intrinsic+json": {
              "type": "string"
            }
          },
          "metadata": {},
          "execution_count": 15
        }
      ]
    },
    {
      "cell_type": "markdown",
      "source": [
        "Lets convert string to date-time object"
      ],
      "metadata": {
        "id": "vYdzOsX1VDGD"
      }
    },
    {
      "cell_type": "code",
      "source": [
        "t1 = datetime.strptime( airport_raw['Fecha-I'][0]   , '%Y-%m-%d %H:%M:%S')\n",
        "t2 = datetime.strptime( airport_raw['Fecha-I'][100] , '%Y-%m-%d %H:%M:%S')\n",
        "delta = t2 - t1\n",
        "print( type(delta) )\n",
        "delta"
      ],
      "metadata": {
        "colab": {
          "base_uri": "https://localhost:8080/",
          "height": 52
        },
        "id": "0laKxJtcVBKz",
        "outputId": "2f2e9758-617f-4215-be9b-f702db110aa7"
      },
      "execution_count": 16,
      "outputs": [
        {
          "output_type": "display_data",
          "data": {
            "text/plain": [
              "<IPython.core.display.HTML object>"
            ],
            "text/html": [
              "\n",
              "  <style>\n",
              "    pre {\n",
              "        white-space: pre-wrap;\n",
              "    }\n",
              "  </style>\n",
              "  "
            ]
          },
          "metadata": {}
        },
        {
          "output_type": "stream",
          "name": "stdout",
          "text": [
            "<class 'datetime.timedelta'>\n"
          ]
        },
        {
          "output_type": "execute_result",
          "data": {
            "text/plain": [
              "datetime.timedelta(days=20, seconds=50700)"
            ]
          },
          "metadata": {},
          "execution_count": 16
        }
      ]
    },
    {
      "cell_type": "markdown",
      "source": [
        "Great, the conversion is working, and I can now calculate time differences."
      ],
      "metadata": {
        "id": "19LpwgkeVVnP"
      }
    },
    {
      "cell_type": "code",
      "source": [
        "# transform datetime using pandas\n",
        "airport['Fecha-O'] = pd.to_datetime(airport_raw['Fecha-O'])\n",
        "airport['Fecha-I'] = pd.to_datetime(airport_raw['Fecha-I'])\n",
        "\n",
        "# to check conversion\n",
        "print(airport['Fecha-O'][0] )\n",
        "print(airport['Fecha-O'].dtypes)\n",
        "\n",
        "#other way (not ussing it now)\n",
        "#airport['Fecha-I'] =  pd.to_datetime(airport_raw['Fecha-I'], format='%Y-%m-%d %H:%M:%S')\n",
        "#airport['Fecha-O'] =  pd.to_datetime(airport_raw['Fecha-O'], format='%Y-%m-%d %H:%M:%S')\n",
        "\n",
        "#print(f'Time difference is {delta.total_seconds() / 60 } minutes') # formating in unites"
      ],
      "metadata": {
        "colab": {
          "base_uri": "https://localhost:8080/",
          "height": 52
        },
        "id": "ovbh6ghQjKWg",
        "outputId": "a8f2f14b-da45-4637-a0d5-577b897663b7"
      },
      "execution_count": 17,
      "outputs": [
        {
          "output_type": "display_data",
          "data": {
            "text/plain": [
              "<IPython.core.display.HTML object>"
            ],
            "text/html": [
              "\n",
              "  <style>\n",
              "    pre {\n",
              "        white-space: pre-wrap;\n",
              "    }\n",
              "  </style>\n",
              "  "
            ]
          },
          "metadata": {}
        },
        {
          "output_type": "stream",
          "name": "stdout",
          "text": [
            "2017-01-01 23:33:00\n",
            "datetime64[ns]\n"
          ]
        }
      ]
    },
    {
      "cell_type": "markdown",
      "source": [
        "Time conversion worked."
      ],
      "metadata": {
        "id": "M0xzpK56WZ8l"
      }
    },
    {
      "cell_type": "markdown",
      "source": [
        "# QUESTION 1\n",
        "\n",
        "ESTA LA RESPONDÍ EN LOS GRÁFICOS"
      ],
      "metadata": {
        "id": "3ceNcn80BVnz"
      }
    },
    {
      "cell_type": "markdown",
      "source": [
        "# QUESTION 2:"
      ],
      "metadata": {
        "id": "YPf1udd3GseF"
      }
    },
    {
      "cell_type": "markdown",
      "source": [
        "○ temporada_alta : 1 si Fecha-I está entre 15-Dic y 3-Mar, o 15-Jul y 31-Jul, o 11-Sep y 30-Sep, 0 si no.\n",
        "\n",
        "○ dif_min : diferencia en minutos entre Fecha-O y Fecha-I .\n",
        "\n",
        "○ atraso_15 : 1 si dif_min > 15, 0 si no.\n",
        "\n",
        "○ periodo_dia : mañana (entre 5:00 y 11:59), tarde (entre 12:00 y 18:59) y noche (entre 19:00 y 4:59), en base a Fecha-I .\n"
      ],
      "metadata": {
        "id": "NlmLVHQrG644"
      }
    },
    {
      "cell_type": "markdown",
      "source": [
        "## temporada_alta\n",
        "The tool to bin numerical data into categorical data, that I nowof, is pandas CUT.\n",
        "\n",
        "First, lets find the min and max datetimes, since these 2 will be the edges of my binning"
      ],
      "metadata": {
        "id": "qoBAAwVGIO2z"
      }
    },
    {
      "cell_type": "code",
      "source": [
        "print('FIRST flight in dataset:   ', airport_raw['Fecha-I'].min() )\n",
        "print('LAST  flight in dataset:   ', airport_raw['Fecha-I'].max() )"
      ],
      "metadata": {
        "colab": {
          "base_uri": "https://localhost:8080/",
          "height": 52
        },
        "id": "pSEW5e4uOJjr",
        "outputId": "79029626-287b-4e3b-8440-d261c9a38726"
      },
      "execution_count": 18,
      "outputs": [
        {
          "output_type": "display_data",
          "data": {
            "text/plain": [
              "<IPython.core.display.HTML object>"
            ],
            "text/html": [
              "\n",
              "  <style>\n",
              "    pre {\n",
              "        white-space: pre-wrap;\n",
              "    }\n",
              "  </style>\n",
              "  "
            ]
          },
          "metadata": {}
        },
        {
          "output_type": "stream",
          "name": "stdout",
          "text": [
            "FIRST flight in dataset:    2017-01-01 00:15:00\n",
            "LAST  flight in dataset:    2017-12-31 23:55:00\n"
          ]
        }
      ]
    },
    {
      "cell_type": "markdown",
      "source": [
        "All the scheduled flights are within the same year, this makes things easier.\n",
        "\n",
        "The binning was set including the last day. eg: temporada alta lates till the last minute of March 03\n"
      ],
      "metadata": {
        "id": "0GR1hljxQ-XE"
      }
    },
    {
      "cell_type": "code",
      "source": [
        "airport['temporada_alta'] = pd.cut( airport['Fecha-I'],  \n",
        "    bins = [ airport['Fecha-I'].min(),                                          # desde 1 enero   (comienzo vacaciones verano)\n",
        "             datetime.strptime('2017-03-03 23:59:59', '%Y-%m-%d %H:%M:%S'),     # hasta 3 marzo\n",
        "             datetime.strptime('2017-07-15 00:00:00', '%Y-%m-%d %H:%M:%S'),     # desde 15 jul    (comienzo vacaciones invierno)\n",
        "             datetime.strptime('2017-07-31 23:59:59', '%Y-%m-%d %H:%M:%S'),     # hasta 31 jul\n",
        "             datetime.strptime('2017-09-11 00:00:00', '%Y-%m-%d %H:%M:%S'),     # desde 11 sept   (comienzo vacaciones fiestas patrias)\n",
        "             datetime.strptime('2017-09-30 23:59:59', '%Y-%m-%d %H:%M:%S'),     # hasta 30 sept\n",
        "             datetime.strptime('2017-12-15 00:00:00', '%Y-%m-%d %H:%M:%S'),     # desde 15 dic    (comienzo vacaciones verano)\n",
        "             airport['Fecha-I'].max()]  ,                                       # fin de año\n",
        "    labels = [1,0,1,0,1,0,1],\n",
        "    right  = True,                                                              # bins [1, 2, 3] indicate labels (1,2], (2,3]\n",
        "    ordered = False )                                                           # allow duplicate labels\n",
        "\n",
        "# checking if the binning worked\n",
        "print( airport['temporada_alta'].value_counts() , '\\n')\n",
        "airport[['Fecha-I','temporada_alta']].head(3)"
      ],
      "metadata": {
        "colab": {
          "base_uri": "https://localhost:8080/",
          "height": 213
        },
        "id": "qUhQXiMsIQpS",
        "outputId": "3dcc4e4a-c8c2-4db3-8f75-f6144590822a"
      },
      "execution_count": 19,
      "outputs": [
        {
          "output_type": "display_data",
          "data": {
            "text/plain": [
              "<IPython.core.display.HTML object>"
            ],
            "text/html": [
              "\n",
              "  <style>\n",
              "    pre {\n",
              "        white-space: pre-wrap;\n",
              "    }\n",
              "  </style>\n",
              "  "
            ]
          },
          "metadata": {}
        },
        {
          "output_type": "stream",
          "name": "stdout",
          "text": [
            "0    45444\n",
            "1    22761\n",
            "Name: temporada_alta, dtype: int64 \n",
            "\n"
          ]
        },
        {
          "output_type": "execute_result",
          "data": {
            "text/plain": [
              "              Fecha-I temporada_alta\n",
              "0 2017-01-01 23:30:00              1\n",
              "1 2017-01-02 23:30:00              1\n",
              "2 2017-01-03 23:30:00              1"
            ],
            "text/html": [
              "\n",
              "  <div id=\"df-a5e4e722-1ed0-4af3-85cc-eb059d26171c\">\n",
              "    <div class=\"colab-df-container\">\n",
              "      <div>\n",
              "<style scoped>\n",
              "    .dataframe tbody tr th:only-of-type {\n",
              "        vertical-align: middle;\n",
              "    }\n",
              "\n",
              "    .dataframe tbody tr th {\n",
              "        vertical-align: top;\n",
              "    }\n",
              "\n",
              "    .dataframe thead th {\n",
              "        text-align: right;\n",
              "    }\n",
              "</style>\n",
              "<table border=\"1\" class=\"dataframe\">\n",
              "  <thead>\n",
              "    <tr style=\"text-align: right;\">\n",
              "      <th></th>\n",
              "      <th>Fecha-I</th>\n",
              "      <th>temporada_alta</th>\n",
              "    </tr>\n",
              "  </thead>\n",
              "  <tbody>\n",
              "    <tr>\n",
              "      <th>0</th>\n",
              "      <td>2017-01-01 23:30:00</td>\n",
              "      <td>1</td>\n",
              "    </tr>\n",
              "    <tr>\n",
              "      <th>1</th>\n",
              "      <td>2017-01-02 23:30:00</td>\n",
              "      <td>1</td>\n",
              "    </tr>\n",
              "    <tr>\n",
              "      <th>2</th>\n",
              "      <td>2017-01-03 23:30:00</td>\n",
              "      <td>1</td>\n",
              "    </tr>\n",
              "  </tbody>\n",
              "</table>\n",
              "</div>\n",
              "      <button class=\"colab-df-convert\" onclick=\"convertToInteractive('df-a5e4e722-1ed0-4af3-85cc-eb059d26171c')\"\n",
              "              title=\"Convert this dataframe to an interactive table.\"\n",
              "              style=\"display:none;\">\n",
              "        \n",
              "  <svg xmlns=\"http://www.w3.org/2000/svg\" height=\"24px\"viewBox=\"0 0 24 24\"\n",
              "       width=\"24px\">\n",
              "    <path d=\"M0 0h24v24H0V0z\" fill=\"none\"/>\n",
              "    <path d=\"M18.56 5.44l.94 2.06.94-2.06 2.06-.94-2.06-.94-.94-2.06-.94 2.06-2.06.94zm-11 1L8.5 8.5l.94-2.06 2.06-.94-2.06-.94L8.5 2.5l-.94 2.06-2.06.94zm10 10l.94 2.06.94-2.06 2.06-.94-2.06-.94-.94-2.06-.94 2.06-2.06.94z\"/><path d=\"M17.41 7.96l-1.37-1.37c-.4-.4-.92-.59-1.43-.59-.52 0-1.04.2-1.43.59L10.3 9.45l-7.72 7.72c-.78.78-.78 2.05 0 2.83L4 21.41c.39.39.9.59 1.41.59.51 0 1.02-.2 1.41-.59l7.78-7.78 2.81-2.81c.8-.78.8-2.07 0-2.86zM5.41 20L4 18.59l7.72-7.72 1.47 1.35L5.41 20z\"/>\n",
              "  </svg>\n",
              "      </button>\n",
              "      \n",
              "  <style>\n",
              "    .colab-df-container {\n",
              "      display:flex;\n",
              "      flex-wrap:wrap;\n",
              "      gap: 12px;\n",
              "    }\n",
              "\n",
              "    .colab-df-convert {\n",
              "      background-color: #E8F0FE;\n",
              "      border: none;\n",
              "      border-radius: 50%;\n",
              "      cursor: pointer;\n",
              "      display: none;\n",
              "      fill: #1967D2;\n",
              "      height: 32px;\n",
              "      padding: 0 0 0 0;\n",
              "      width: 32px;\n",
              "    }\n",
              "\n",
              "    .colab-df-convert:hover {\n",
              "      background-color: #E2EBFA;\n",
              "      box-shadow: 0px 1px 2px rgba(60, 64, 67, 0.3), 0px 1px 3px 1px rgba(60, 64, 67, 0.15);\n",
              "      fill: #174EA6;\n",
              "    }\n",
              "\n",
              "    [theme=dark] .colab-df-convert {\n",
              "      background-color: #3B4455;\n",
              "      fill: #D2E3FC;\n",
              "    }\n",
              "\n",
              "    [theme=dark] .colab-df-convert:hover {\n",
              "      background-color: #434B5C;\n",
              "      box-shadow: 0px 1px 3px 1px rgba(0, 0, 0, 0.15);\n",
              "      filter: drop-shadow(0px 1px 2px rgba(0, 0, 0, 0.3));\n",
              "      fill: #FFFFFF;\n",
              "    }\n",
              "  </style>\n",
              "\n",
              "      <script>\n",
              "        const buttonEl =\n",
              "          document.querySelector('#df-a5e4e722-1ed0-4af3-85cc-eb059d26171c button.colab-df-convert');\n",
              "        buttonEl.style.display =\n",
              "          google.colab.kernel.accessAllowed ? 'block' : 'none';\n",
              "\n",
              "        async function convertToInteractive(key) {\n",
              "          const element = document.querySelector('#df-a5e4e722-1ed0-4af3-85cc-eb059d26171c');\n",
              "          const dataTable =\n",
              "            await google.colab.kernel.invokeFunction('convertToInteractive',\n",
              "                                                     [key], {});\n",
              "          if (!dataTable) return;\n",
              "\n",
              "          const docLinkHtml = 'Like what you see? Visit the ' +\n",
              "            '<a target=\"_blank\" href=https://colab.research.google.com/notebooks/data_table.ipynb>data table notebook</a>'\n",
              "            + ' to learn more about interactive tables.';\n",
              "          element.innerHTML = '';\n",
              "          dataTable['output_type'] = 'display_data';\n",
              "          await google.colab.output.renderOutput(dataTable, element);\n",
              "          const docLink = document.createElement('div');\n",
              "          docLink.innerHTML = docLinkHtml;\n",
              "          element.appendChild(docLink);\n",
              "        }\n",
              "      </script>\n",
              "    </div>\n",
              "  </div>\n",
              "  "
            ]
          },
          "metadata": {},
          "execution_count": 19
        }
      ]
    },
    {
      "cell_type": "markdown",
      "source": [
        "## dif_min"
      ],
      "metadata": {
        "id": "ky2oULA-YH9s"
      }
    },
    {
      "cell_type": "markdown",
      "source": [
        "I realized that the flights that depart early have the format: -1 days +23:58:00\n",
        "\n",
        "This one departs 2 mins ahead of time, but because of the -1 day, it adds a whole day to the value (extra 8640 seconds). So I had to figure out how to solve this."
      ],
      "metadata": {
        "id": "xyS3-KpcIrgu"
      }
    },
    {
      "cell_type": "code",
      "source": [
        "# Calculate the substraction for the delay ['Fecha-O'] - ['Fecha-I']  (input and output in datetime format)\n",
        "# then change timedelta in datetime format to minutes\n",
        "airport['dif_min'] = ( airport['Fecha-O'] - airport['Fecha-I'] ) / pd.Timedelta(minutes=1)\n",
        "airport['dif_min'][0:11]"
      ],
      "metadata": {
        "colab": {
          "base_uri": "https://localhost:8080/",
          "height": 225
        },
        "id": "-PkY8cWJYI8X",
        "outputId": "878da793-4741-4d65-ad31-4d73171ae33f"
      },
      "execution_count": 20,
      "outputs": [
        {
          "output_type": "display_data",
          "data": {
            "text/plain": [
              "<IPython.core.display.HTML object>"
            ],
            "text/html": [
              "\n",
              "  <style>\n",
              "    pre {\n",
              "        white-space: pre-wrap;\n",
              "    }\n",
              "  </style>\n",
              "  "
            ]
          },
          "metadata": {}
        },
        {
          "output_type": "execute_result",
          "data": {
            "text/plain": [
              "0      3.0\n",
              "1      9.0\n",
              "2      9.0\n",
              "3      3.0\n",
              "4     -2.0\n",
              "5     34.0\n",
              "6     -5.0\n",
              "7     -5.0\n",
              "8     40.0\n",
              "9     69.0\n",
              "10    -9.0\n",
              "Name: dif_min, dtype: float64"
            ]
          },
          "metadata": {},
          "execution_count": 20
        }
      ]
    },
    {
      "cell_type": "markdown",
      "source": [
        "Now lets see how the dalay looks in a histogram"
      ],
      "metadata": {
        "id": "4-ekRQw86a6X"
      }
    },
    {
      "cell_type": "code",
      "source": [
        "# parameters to calculate histogram (every 10 mins)\n",
        "bins= [  min(airport['dif_min'].min(), -20),\n",
        "         -10, 0, 10,20,30,40,50,60,\n",
        "         80,90,100,110,\n",
        "         max(airport['dif_min'].max(), 120)   ]\n",
        "density = False         # True means normalized, False is absolute counts\n",
        "\n",
        "temp_mean = airport['dif_min'].mean()\n",
        "temp_std  = airport['dif_min'].std()\n",
        "non_str  = '{:,.1f}'.format( temp_mean ) + ' \\u00B1 '  +  '{:,.1f}'.format( temp_std )\n",
        "\n",
        "# plot Histogram\n",
        "fig , axe = plt.subplots(1,1, figsize=(10, 8) )\n",
        "\n",
        "plt.hist( airport['dif_min'] , \n",
        "          histtype='step'      , density = False, bins=bins, color='blue', lw=1.5, ) #histtype='barstacked'  'step'\n",
        "\n",
        "plt.hist( airport['dif_min'] , \n",
        "          histtype='barstacked', density = False, bins=bins, color='blue', alpha = 0.3 ) #histtype='barstacked'  'step'\n",
        "\n",
        "\n",
        "# display customization\n",
        "plt.xlabel('Delta (Fecha-O - Fecha-I), min', fontsize=18)\n",
        "plt.ylabel('Counts on 2017', fontsize=18)\n",
        "\n",
        "axe.tick_params(labelsize=16)\n",
        "axe.xaxis.set_major_locator(MultipleLocator(20))\n",
        "axe.xaxis.set_minor_locator(MultipleLocator(10))\n",
        "\n",
        "plt.grid(b=None, which='major', axis='both')\n",
        "axe.grid(linestyle=':', linewidth='0.5', color='gray', alpha = 0.6)\n",
        "\n",
        "plt.legend( ['Delta:'+'\\n' + non_str + ' min'], fontsize=16, loc ='upper right')\n",
        "plt.show()"
      ],
      "metadata": {
        "colab": {
          "base_uri": "https://localhost:8080/",
          "height": 509
        },
        "id": "emDzwh-6t-du",
        "outputId": "cbd9db1f-b1a3-43b2-8b00-2d96de3eb498"
      },
      "execution_count": 21,
      "outputs": [
        {
          "output_type": "display_data",
          "data": {
            "text/plain": [
              "<IPython.core.display.HTML object>"
            ],
            "text/html": [
              "\n",
              "  <style>\n",
              "    pre {\n",
              "        white-space: pre-wrap;\n",
              "    }\n",
              "  </style>\n",
              "  "
            ]
          },
          "metadata": {}
        },
        {
          "output_type": "display_data",
          "data": {
            "text/plain": [
              "<Figure size 720x576 with 1 Axes>"
            ],
            "image/png": "[encoded data removed]"
          },
          "metadata": {
            "needs_background": "light"
          }
        }
      ]
    },
    {
      "cell_type": "markdown",
      "source": [
        "According to this data:\n",
        "1. there are lots of lfights that depart before scheduled.\n",
        "2. Most flights depart with a delay of 10 minutes.\n",
        "3. Long delays are infrecuent.\n",
        "4. there is a special case of delay that takes ~2.5 hrs"
      ],
      "metadata": {
        "id": "xYD9ktE92-lo"
      }
    },
    {
      "cell_type": "markdown",
      "source": [
        "## atraso_15"
      ],
      "metadata": {
        "id": "V7liVUqf4BKe"
      }
    },
    {
      "cell_type": "code",
      "source": [
        "airport['atraso_15'] = pd.cut( airport['dif_min'],  \n",
        "    bins = [ airport['dif_min'].min(),                                          # desde 1 enero   (comienzo vacaciones verano)\n",
        "             15,\n",
        "             airport['dif_min'].max()]  ,                                       # fin de año\n",
        "    labels = [0,1],\n",
        "    right  = True,                                                              # bins [1, 2, 3] indicate labels (1,2], (2,3]\n",
        "    ordered = False ).astype(float)                                                           # allow duplicate labels\n",
        "\n",
        "airport['atraso_15'].value_counts()"
      ],
      "metadata": {
        "colab": {
          "base_uri": "https://localhost:8080/",
          "height": 69
        },
        "id": "C4QlsEID6xzX",
        "outputId": "617a33c8-459d-4aec-b59b-b3107351e333"
      },
      "execution_count": 22,
      "outputs": [
        {
          "output_type": "display_data",
          "data": {
            "text/plain": [
              "<IPython.core.display.HTML object>"
            ],
            "text/html": [
              "\n",
              "  <style>\n",
              "    pre {\n",
              "        white-space: pre-wrap;\n",
              "    }\n",
              "  </style>\n",
              "  "
            ]
          },
          "metadata": {}
        },
        {
          "output_type": "execute_result",
          "data": {
            "text/plain": [
              "0.0    55465\n",
              "1.0    12614\n",
              "Name: atraso_15, dtype: int64"
            ]
          },
          "metadata": {},
          "execution_count": 22
        }
      ]
    },
    {
      "cell_type": "markdown",
      "source": [
        "## **periodo_dia**\n",
        "\n",
        "the 'Fecha-I' column is still in datetime format.\n",
        "\n",
        "Used dt.time to extract the time into the 'Hora-I' new column"
      ],
      "metadata": {
        "id": "E8adB2q58Xat"
      }
    },
    {
      "cell_type": "code",
      "source": [
        "airport['Hora-I'] =  pd.to_datetime(airport['Fecha-I'].dt.time, format='%H:%M:%S')"
      ],
      "metadata": {
        "colab": {
          "base_uri": "https://localhost:8080/",
          "height": 17
        },
        "id": "3axOy6CTNK10",
        "outputId": "e23d7de3-07e3-4aef-f6b4-0433bc571ca2"
      },
      "execution_count": 23,
      "outputs": [
        {
          "output_type": "display_data",
          "data": {
            "text/plain": [
              "<IPython.core.display.HTML object>"
            ],
            "text/html": [
              "\n",
              "  <style>\n",
              "    pre {\n",
              "        white-space: pre-wrap;\n",
              "    }\n",
              "  </style>\n",
              "  "
            ]
          },
          "metadata": {}
        }
      ]
    },
    {
      "cell_type": "code",
      "source": [
        "airport['periodo_dia'] = pd.cut( airport['Hora-I'],  \n",
        "    bins = [ datetime.strptime('00:00:00', '%H:%M:%S'),     # hasta 3 marzo\n",
        "             datetime.strptime('04:59:59', '%H:%M:%S'),     # desde 15 jul    (comienzo vacaciones invierno)\n",
        "             datetime.strptime('11:59:59', '%H:%M:%S'),     # hasta 31 jul\n",
        "             datetime.strptime('18:59:59', '%H:%M:%S'),     # desde 11 sept   (comienzo vacaciones fiestas patrias)\n",
        "             datetime.strptime('23:59:59', '%H:%M:%S')],\n",
        "    labels = ['noche','mañana','tarde','noche'],\n",
        "    right  = True,                                                              # bins [1, 2, 3] indicate labels (1,2], (2,3]\n",
        "    ordered = False )\n",
        "\n",
        "airport['periodo_dia'].value_counts()"
      ],
      "metadata": {
        "colab": {
          "base_uri": "https://localhost:8080/",
          "height": 86
        },
        "id": "lTtzKrTDLJKb",
        "outputId": "b4ced9d9-ea06-4fbb-9e42-53d5d5603d7e"
      },
      "execution_count": 24,
      "outputs": [
        {
          "output_type": "display_data",
          "data": {
            "text/plain": [
              "<IPython.core.display.HTML object>"
            ],
            "text/html": [
              "\n",
              "  <style>\n",
              "    pre {\n",
              "        white-space: pre-wrap;\n",
              "    }\n",
              "  </style>\n",
              "  "
            ]
          },
          "metadata": {}
        },
        {
          "output_type": "execute_result",
          "data": {
            "text/plain": [
              "tarde     25506\n",
              "mañana    25352\n",
              "noche     17346\n",
              "Name: periodo_dia, dtype: int64"
            ]
          },
          "metadata": {},
          "execution_count": 24
        }
      ]
    },
    {
      "cell_type": "markdown",
      "source": [
        "## export"
      ],
      "metadata": {
        "id": "dCtH8oh7OC4u"
      }
    },
    {
      "cell_type": "markdown",
      "source": [
        "file was stores on the Google Drive directory set at the begining"
      ],
      "metadata": {
        "id": "Q4U2c3-ZoA8c"
      }
    },
    {
      "cell_type": "code",
      "source": [
        "airport[['temporada_alta','dif_min','atraso_15','periodo_dia']].to_csv('synthetic_features.csv', sep='\\t')"
      ],
      "metadata": {
        "colab": {
          "base_uri": "https://localhost:8080/",
          "height": 17
        },
        "id": "Kar3qEZGOjPd",
        "outputId": "f353065b-d8e5-43db-97d1-5bcc807f0417"
      },
      "execution_count": 25,
      "outputs": [
        {
          "output_type": "display_data",
          "data": {
            "text/plain": [
              "<IPython.core.display.HTML object>"
            ],
            "text/html": [
              "\n",
              "  <style>\n",
              "    pre {\n",
              "        white-space: pre-wrap;\n",
              "    }\n",
              "  </style>\n",
              "  "
            ]
          },
          "metadata": {}
        }
      ]
    },
    {
      "cell_type": "markdown",
      "source": [
        "# QUESTION 3\n",
        "\n",
        "**Pregunta: ¿Cómo se compone la tasa de atraso por destino, aerolínea, mes del año, día de la semana, temporada, tipo de vuelo?**\n",
        "\n",
        "Como 'atraso_15' tiene valoRES de 0 y 1, al calcular promedios agrupados, estos van a corresponder a la tasa de atrazo, que voy a expresar como porcentaje.\n",
        "\n",
        "**Pregunta: ¿Qué variables esperarías que más influyeran en predecir atrasos?**\n",
        "\n",
        "La Aerolinea y el destino son las 2 variable que mayor varianza exhiben en cuento al delay sobre 15 minutos, por lo que anticipo que debiese ser importante en la predicción."
      ],
      "metadata": {
        "id": "I6CjFhtcPVbI"
      }
    },
    {
      "cell_type": "markdown",
      "source": [
        "DESTINO"
      ],
      "metadata": {
        "id": "FmRk2E2wYIRQ"
      }
    },
    {
      "cell_type": "code",
      "source": [
        "atraso_destino = airport.groupby('Des-I')['atraso_15'].mean() *100 \n",
        "atraso_destino = atraso_destino.to_frame()\n",
        "atraso_destino.rename(columns={'atraso_15':'atraso_%',}, inplace=True)  \n",
        "atraso_destino['atraso_%'] = atraso_destino['atraso_%'].apply(lambda x: round(x, 1))     # Left the date with a single decimal digit.\n",
        "\n",
        "display(atraso_destino['atraso_%'].sort_values(axis=0,ascending=False))"
      ],
      "metadata": {
        "colab": {
          "base_uri": "https://localhost:8080/",
          "height": 243
        },
        "id": "bV5SUtldsxmy",
        "outputId": "9b8193c0-529c-4b27-80ac-1d3cc575260a"
      },
      "execution_count": 26,
      "outputs": [
        {
          "output_type": "display_data",
          "data": {
            "text/plain": [
              "<IPython.core.display.HTML object>"
            ],
            "text/html": [
              "\n",
              "  <style>\n",
              "    pre {\n",
              "        white-space: pre-wrap;\n",
              "    }\n",
              "  </style>\n",
              "  "
            ]
          },
          "metadata": {}
        },
        {
          "output_type": "display_data",
          "data": {
            "text/plain": [
              "Des-I\n",
              "EGYP    100.0\n",
              "SLCB    100.0\n",
              "SEQU    100.0\n",
              "SEQM    100.0\n",
              "SAWH     66.7\n",
              "        ...  \n",
              "KIAH      5.2\n",
              "SBCT      0.0\n",
              "SARI      0.0\n",
              "SPSO      0.0\n",
              "SBFI      0.0\n",
              "Name: atraso_%, Length: 64, dtype: float64"
            ]
          },
          "metadata": {}
        }
      ]
    },
    {
      "cell_type": "markdown",
      "source": [
        "AEROLINEA"
      ],
      "metadata": {
        "id": "q8StU9e4Zuwb"
      }
    },
    {
      "cell_type": "code",
      "source": [
        "atraso_aerolinea = airport.groupby('OPERA')['atraso_15'].mean() *100\n",
        "atraso_aerolinea = atraso_aerolinea.to_frame() \n",
        "atraso_aerolinea.rename(columns={'atraso_15':'atraso_%',}, inplace=True)  \n",
        "atraso_aerolinea['atraso_%'] = atraso_aerolinea['atraso_%'].apply(lambda x: round(x, 1)) \n",
        "display(atraso_aerolinea['atraso_%'].sort_values(axis=0,ascending=False) )"
      ],
      "metadata": {
        "colab": {
          "base_uri": "https://localhost:8080/",
          "height": 451
        },
        "id": "5G1E9TeeaJ4O",
        "outputId": "9c36d38a-c7c1-4031-86f1-1f213825c2ce"
      },
      "execution_count": 27,
      "outputs": [
        {
          "output_type": "display_data",
          "data": {
            "text/plain": [
              "<IPython.core.display.HTML object>"
            ],
            "text/html": [
              "\n",
              "  <style>\n",
              "    pre {\n",
              "        white-space: pre-wrap;\n",
              "    }\n",
              "  </style>\n",
              "  "
            ]
          },
          "metadata": {}
        },
        {
          "output_type": "display_data",
          "data": {
            "text/plain": [
              "OPERA\n",
              "Plus Ultra Lineas Aereas    61.2\n",
              "Qantas Airways              57.9\n",
              "Air Canada                  45.7\n",
              "Latin American Wings        40.8\n",
              "Gol Trans                   36.4\n",
              "Avianca                     26.8\n",
              "Aerolineas Argentinas       24.2\n",
              "Austral                     20.5\n",
              "Grupo LATAM                 17.9\n",
              "JetSmart SPA                17.9\n",
              "Sky Airline                 17.8\n",
              "Oceanair Linhas Aereas      15.5\n",
              "British Airways             14.1\n",
              "Lacsa                       12.1\n",
              "Alitalia                    11.4\n",
              "Iberia                       9.9\n",
              "K.L.M.                       8.5\n",
              "Air France                   8.4\n",
              "American Airlines            6.8\n",
              "Copa Air                     6.3\n",
              "Delta Air                    5.9\n",
              "United Airlines              5.2\n",
              "Aeromexico                   2.9\n",
              "Name: atraso_%, dtype: float64"
            ]
          },
          "metadata": {}
        }
      ]
    },
    {
      "cell_type": "markdown",
      "source": [
        "En general las aerolineas de USA tienen los más bajos retrasos. Las necionales tienen una freecuencia media de retrazo. Algunas específicas tienen retrasos muy frecuentes"
      ],
      "metadata": {
        "id": "AcfoNt21thn2"
      }
    },
    {
      "cell_type": "markdown",
      "source": [
        "MES DEL AÑO"
      ],
      "metadata": {
        "id": "RPmCWOxweiBy"
      }
    },
    {
      "cell_type": "markdown",
      "source": [
        "we are going to extrat the month from 'Fecha-I' column, and then change it to the number+3-letters formart"
      ],
      "metadata": {
        "id": "Crf1QzT1uFxC"
      }
    },
    {
      "cell_type": "code",
      "source": [
        "airport['Mes-I'] =  airport['Fecha-I'].dt.month\n",
        "airport['Mes-I'] = airport['Mes-I'].replace({\n",
        "    1:'1-jan', 2:'2-feb',3:'3-mar',4:'4-apr',5:'5-may',6:'6-jun',\n",
        "    7:'7-jul',8:'8-aug',9:'9-sept',10:'10-oct',11:'11-nov',12:'12-dec'})"
      ],
      "metadata": {
        "colab": {
          "base_uri": "https://localhost:8080/",
          "height": 17
        },
        "id": "Qr4IJoZHe95z",
        "outputId": "8c6c78a4-fba8-441b-8552-4007f78a6ed4"
      },
      "execution_count": 28,
      "outputs": [
        {
          "output_type": "display_data",
          "data": {
            "text/plain": [
              "<IPython.core.display.HTML object>"
            ],
            "text/html": [
              "\n",
              "  <style>\n",
              "    pre {\n",
              "        white-space: pre-wrap;\n",
              "    }\n",
              "  </style>\n",
              "  "
            ]
          },
          "metadata": {}
        }
      ]
    },
    {
      "cell_type": "code",
      "source": [
        "atraso_mes = airport.groupby('Mes-I')['atraso_15'].mean() *100\n",
        "atraso_mes = atraso_mes.to_frame() \n",
        "atraso_mes.rename(columns={'atraso_15':'atraso_%',}, inplace=True)  \n",
        "atraso_mes['atraso_%'] = atraso_mes['atraso_%'].apply(lambda x: round(x, 1)) \n",
        "display(atraso_mes['atraso_%'].sort_values(axis=0,ascending=False) )"
      ],
      "metadata": {
        "colab": {
          "base_uri": "https://localhost:8080/",
          "height": 260
        },
        "id": "HZEC4ELlfmWw",
        "outputId": "a2fe28c3-0431-4c1f-f916-4a017e014674"
      },
      "execution_count": 29,
      "outputs": [
        {
          "output_type": "display_data",
          "data": {
            "text/plain": [
              "<IPython.core.display.HTML object>"
            ],
            "text/html": [
              "\n",
              "  <style>\n",
              "    pre {\n",
              "        white-space: pre-wrap;\n",
              "    }\n",
              "  </style>\n",
              "  "
            ]
          },
          "metadata": {}
        },
        {
          "output_type": "display_data",
          "data": {
            "text/plain": [
              "Mes-I\n",
              "7-jul     29.4\n",
              "12-dec    25.4\n",
              "10-oct    22.6\n",
              "11-nov    19.8\n",
              "8-aug     17.4\n",
              "9-sept    17.3\n",
              "6-jun     17.1\n",
              "1-jan     16.1\n",
              "5-may     15.8\n",
              "2-feb     15.2\n",
              "4-apr     11.7\n",
              "3-mar     11.5\n",
              "Name: atraso_%, dtype: float64"
            ]
          },
          "metadata": {}
        }
      ]
    },
    {
      "cell_type": "markdown",
      "source": [
        "During the winter holidays the largest number delays were observed"
      ],
      "metadata": {
        "id": "EbJatRiYudRC"
      }
    },
    {
      "cell_type": "markdown",
      "source": [
        "DIA DE LA SEMANA"
      ],
      "metadata": {
        "id": "7cJmqO3ou2N7"
      }
    },
    {
      "cell_type": "code",
      "source": [
        "atraso_dia = airport.groupby('DIANOM')['atraso_15'].mean() *100\n",
        "atraso_dia = atraso_dia.to_frame() \n",
        "atraso_dia.rename(columns={'atraso_15':'atraso_%',}, inplace=True)  \n",
        "atraso_dia['atraso_%'] = atraso_dia['atraso_%'].apply(lambda x: round(x, 1)) \n",
        "display(atraso_dia['atraso_%'].sort_values(axis=0,ascending=False))"
      ],
      "metadata": {
        "colab": {
          "base_uri": "https://localhost:8080/",
          "height": 173
        },
        "id": "Fjl-dTkgrmoK",
        "outputId": "4bd329c9-867c-44e1-82b6-3d209feed070"
      },
      "execution_count": 32,
      "outputs": [
        {
          "output_type": "display_data",
          "data": {
            "text/plain": [
              "<IPython.core.display.HTML object>"
            ],
            "text/html": [
              "\n",
              "  <style>\n",
              "    pre {\n",
              "        white-space: pre-wrap;\n",
              "    }\n",
              "  </style>\n",
              "  "
            ]
          },
          "metadata": {}
        },
        {
          "output_type": "display_data",
          "data": {
            "text/plain": [
              "DIANOM\n",
              "Viernes      22.2\n",
              "Lunes        20.3\n",
              "Jueves       20.0\n",
              "Miercoles    17.1\n",
              "Martes       17.0\n",
              "Sabado       16.4\n",
              "Domingo      16.1\n",
              "Name: atraso_%, dtype: float64"
            ]
          },
          "metadata": {}
        }
      ]
    },
    {
      "cell_type": "markdown",
      "source": [
        "TEMPORADA"
      ],
      "metadata": {
        "id": "B0QP_lr4u9s5"
      }
    },
    {
      "cell_type": "code",
      "source": [
        "atraso_temporada = airport.groupby('temporada_alta')['atraso_15'].mean() *100\n",
        "atraso_temporada = atraso_temporada.to_frame() \n",
        "atraso_temporada.rename(columns={'atraso_15':'atraso_%',}, inplace=True)  \n",
        "atraso_temporada['atraso_%'] = atraso_temporada['atraso_%'].apply(lambda x: round(x, 1)) \n",
        "display(atraso_temporada['atraso_%'].sort_values(axis=0,ascending=False))"
      ],
      "metadata": {
        "colab": {
          "base_uri": "https://localhost:8080/",
          "height": 86
        },
        "id": "cW-8BvNwvINL",
        "outputId": "1c75098d-474f-49ea-906d-8a9236e2530d"
      },
      "execution_count": 34,
      "outputs": [
        {
          "output_type": "display_data",
          "data": {
            "text/plain": [
              "<IPython.core.display.HTML object>"
            ],
            "text/html": [
              "\n",
              "  <style>\n",
              "    pre {\n",
              "        white-space: pre-wrap;\n",
              "    }\n",
              "  </style>\n",
              "  "
            ]
          },
          "metadata": {}
        },
        {
          "output_type": "display_data",
          "data": {
            "text/plain": [
              "temporada_alta\n",
              "1    19.7\n",
              "0    18.0\n",
              "Name: atraso_%, dtype: float64"
            ]
          },
          "metadata": {}
        }
      ]
    },
    {
      "cell_type": "markdown",
      "source": [
        "En temporadada alta (1), la frecuencia de atrasos es mínimamente supeior que en temporada baja (0)"
      ],
      "metadata": {
        "id": "zQgd2VV0v-Hr"
      }
    },
    {
      "cell_type": "markdown",
      "source": [
        "TIPO DE VUELO"
      ],
      "metadata": {
        "id": "1v6ioTqsvCa7"
      }
    },
    {
      "cell_type": "code",
      "source": [
        "atraso_tipovuelo = airport.groupby('TIPOVUELO')['atraso_15'].mean() *100\n",
        "atraso_tipovuelo = atraso_tipovuelo.to_frame() \n",
        "atraso_tipovuelo.rename(columns={'atraso_15':'atraso_%',}, inplace=True)  \n",
        "atraso_tipovuelo['atraso_%'] = atraso_tipovuelo['atraso_%'].apply(lambda x: round(x, 1)) \n",
        "display(atraso_tipovuelo['atraso_%'].sort_values(axis=0,ascending=False))"
      ],
      "metadata": {
        "colab": {
          "base_uri": "https://localhost:8080/",
          "height": 86
        },
        "id": "q3trDYEMvI9J",
        "outputId": "18f96cb5-542a-4095-a4a8-e70120d9c370"
      },
      "execution_count": 35,
      "outputs": [
        {
          "output_type": "display_data",
          "data": {
            "text/plain": [
              "<IPython.core.display.HTML object>"
            ],
            "text/html": [
              "\n",
              "  <style>\n",
              "    pre {\n",
              "        white-space: pre-wrap;\n",
              "    }\n",
              "  </style>\n",
              "  "
            ]
          },
          "metadata": {}
        },
        {
          "output_type": "display_data",
          "data": {
            "text/plain": [
              "TIPOVUELO\n",
              "I    22.6\n",
              "N    15.1\n",
              "Name: atraso_%, dtype: float64"
            ]
          },
          "metadata": {}
        }
      ]
    },
    {
      "cell_type": "markdown",
      "source": [
        "International flights do have a higher frecuency of delays."
      ],
      "metadata": {
        "id": "UB-BTPyHwZha"
      }
    },
    {
      "cell_type": "markdown",
      "source": [
        "# QUESTION 4"
      ],
      "metadata": {
        "id": "AtHiKGK3BSwx"
      }
    },
    {
      "cell_type": "markdown",
      "source": [
        "First, I am gonna use scikit-learn with a logistic regression, since there are just 2 states to classify."
      ],
      "metadata": {
        "id": "6Th5wyakB4r6"
      }
    },
    {
      "cell_type": "code",
      "source": [
        "# seleccionar las columnas a utilizar\n",
        "col_input =['Des-I','Emp-I','MES','DIANOM','TIPOVUELO','OPERA','SIGLADES',\n",
        "            'temporada_alta', 'periodo_dia']\n",
        "\n",
        "# columnas que no voy a usar para entrenar\n",
        "# 'Vlo-I' TIENE 750 ELEMENTOS, ES DEMASIADO\n",
        "# 'Fecha-I', 'Fecha-O', porque ya esta clasificadas en dias, mes, etc... sería redundante incluirlas, y estoy seleccionando SOLO categoricas de momento\n",
        "# 'Ori-I', 'Ori-O ', solo hay 1, asi que no sirve\n",
        "# 'Vlo-O' porque ya esta 'Vlo-I'\n",
        "# 'Emp-O' porque ya esta 'Emp-I'\n",
        "# 'Des-O' porque ya esta 'Des-I'\n",
        "# 'AÑO' no porque hay 1 (excepto 2 en operación)\n",
        "# 'DIA' no porque son demasiados\n",
        "\n",
        "\n",
        "y = airport [ 'atraso_15' ].astype(str)     # vector objetivo\n",
        "\n",
        "print('y: rows: {:,.0f} '.format( y.shape[0], ))\n",
        "\n",
        "X1 = airport [ col_input ]      # matriz\n",
        "X1 = X1.astype(str)            # convertir columnas numéricas a categoricas\n",
        "print('\\033[1m','--------------- X1: matrix ---------------','\\033[0m')\n",
        "print('rows: {:,.0f}    cols: {:,.0f}'.format( X1.shape[0], X1.shape[1] ))"
      ],
      "metadata": {
        "colab": {
          "base_uri": "https://localhost:8080/",
          "height": 69
        },
        "id": "sOhn4OElDJJ6",
        "outputId": "fb5ad147-46f3-455b-f101-27057f5ae15f"
      },
      "execution_count": 134,
      "outputs": [
        {
          "output_type": "display_data",
          "data": {
            "text/plain": [
              "<IPython.core.display.HTML object>"
            ],
            "text/html": [
              "\n",
              "  <style>\n",
              "    pre {\n",
              "        white-space: pre-wrap;\n",
              "    }\n",
              "  </style>\n",
              "  "
            ]
          },
          "metadata": {}
        },
        {
          "output_type": "stream",
          "name": "stdout",
          "text": [
            "y: rows: 68,206 \n",
            "\u001b[1m --------------- X1: matrix --------------- \u001b[0m\n",
            "rows: 68,206    cols: 9\n"
          ]
        }
      ]
    },
    {
      "cell_type": "code",
      "source": [
        "# ----X2: ONE-HOT ENCODING , categorical only ------------\n",
        "X2 = pd.get_dummies ( X1 , drop_first= True ).copy()                # eliminando 1 columna para no tener problemas con la linealidad (dependiendo del modelo)\n",
        "print('rows: {:,.0f}    cols: {:,.0f}'.format( X2.shape[0], X2.shape[1] ))"
      ],
      "metadata": {
        "colab": {
          "base_uri": "https://localhost:8080/",
          "height": 34
        },
        "id": "iRv0vf6wFsTg",
        "outputId": "2248c7ae-a2be-4431-ffd7-fc1c95c236aa"
      },
      "execution_count": 135,
      "outputs": [
        {
          "output_type": "display_data",
          "data": {
            "text/plain": [
              "<IPython.core.display.HTML object>"
            ],
            "text/html": [
              "\n",
              "  <style>\n",
              "    pre {\n",
              "        white-space: pre-wrap;\n",
              "    }\n",
              "  </style>\n",
              "  "
            ]
          },
          "metadata": {}
        },
        {
          "output_type": "stream",
          "name": "stdout",
          "text": [
            "rows: 68,206    cols: 198\n"
          ]
        }
      ]
    },
    {
      "cell_type": "markdown",
      "source": [
        "Son demasiadas columnas, debería filtrar un poco las de baja frecuencia para scikitlearn, aunque en pycaret es automático"
      ],
      "metadata": {
        "id": "z-A6VH08Hwac"
      }
    },
    {
      "cell_type": "code",
      "source": [
        "# ----X3: MATRIX + VECTOR, to dropnan  ------------\n",
        "X3 = pd.concat([ X2 , y  ], axis=1)         # to the side\n",
        "X3.dropna(inplace=True)                     # creo que era 1 solamennte, de todas formas lo voy a hacer\n",
        "print('rows: {:,.0f}    cols: {:,.0f}'.format( X3.shape[0], X3.shape[1] ))"
      ],
      "metadata": {
        "colab": {
          "base_uri": "https://localhost:8080/",
          "height": 34
        },
        "id": "JQTOOffbH-4P",
        "outputId": "305294cb-87e4-4043-ed32-fc54410a993a"
      },
      "execution_count": 140,
      "outputs": [
        {
          "output_type": "display_data",
          "data": {
            "text/plain": [
              "<IPython.core.display.HTML object>"
            ],
            "text/html": [
              "\n",
              "  <style>\n",
              "    pre {\n",
              "        white-space: pre-wrap;\n",
              "    }\n",
              "  </style>\n",
              "  "
            ]
          },
          "metadata": {}
        },
        {
          "output_type": "stream",
          "name": "stdout",
          "text": [
            "rows: 68,206    cols: 199\n"
          ]
        }
      ]
    },
    {
      "cell_type": "code",
      "source": [
        "X3['atraso_15'].value_counts()"
      ],
      "metadata": {
        "colab": {
          "base_uri": "https://localhost:8080/",
          "height": 86
        },
        "id": "N-VbrOF4OIfX",
        "outputId": "e38094f7-e835-47de-8b38-f72e2db0fed6"
      },
      "execution_count": 142,
      "outputs": [
        {
          "output_type": "display_data",
          "data": {
            "text/plain": [
              "<IPython.core.display.HTML object>"
            ],
            "text/html": [
              "\n",
              "  <style>\n",
              "    pre {\n",
              "        white-space: pre-wrap;\n",
              "    }\n",
              "  </style>\n",
              "  "
            ]
          },
          "metadata": {}
        },
        {
          "output_type": "execute_result",
          "data": {
            "text/plain": [
              "0.0    55465\n",
              "1.0    12614\n",
              "nan      127\n",
              "Name: atraso_15, dtype: int64"
            ]
          },
          "metadata": {},
          "execution_count": 142
        }
      ]
    },
    {
      "cell_type": "markdown",
      "source": [
        "HASTA ACÁ LLEGUE.\n",
        "POR ALGUNA RAZÓN EL MÉTODO PARA FILTRAR LOS DTAOS NO ME FUNCIONA\n",
        "NI SIQUIERA ME DEJA HACER DROPNAN AHORA.\n",
        "NO PUDE SEGUIR"
      ],
      "metadata": {
        "id": "gF6J7Is2Ts72"
      }
    },
    {
      "cell_type": "code",
      "source": [
        "# ---- X4:for predicitions, NON-DELAYED ONLY\n",
        "X4 = X3  [ X3['atraso_15'] == 0.0 ] .copy()   \n",
        "print('rows: {:,.0f}    cols: {:,.0f}'.format( X4.shape[0], X4.shape[1] ))"
      ],
      "metadata": {
        "colab": {
          "base_uri": "https://localhost:8080/",
          "height": 34
        },
        "id": "hqwwBBVNJIgy",
        "outputId": "c7ebd74a-36cc-45c0-b950-c5048809421e"
      },
      "execution_count": 138,
      "outputs": [
        {
          "output_type": "display_data",
          "data": {
            "text/plain": [
              "<IPython.core.display.HTML object>"
            ],
            "text/html": [
              "\n",
              "  <style>\n",
              "    pre {\n",
              "        white-space: pre-wrap;\n",
              "    }\n",
              "  </style>\n",
              "  "
            ]
          },
          "metadata": {}
        },
        {
          "output_type": "stream",
          "name": "stdout",
          "text": [
            "rows: 0    cols: 199\n"
          ]
        }
      ]
    },
    {
      "cell_type": "code",
      "source": [
        "X6 = X5  [ X5['Democratic'] == 0 ] .copy()  \n",
        "X6 = X5  [ ( X5[  'Democratic' ] == 0 ) & ( X5 [ 'Republican' ] == 0 ) ] .copy()  "
      ],
      "metadata": {
        "id": "WvBUB0ckP-CV"
      },
      "execution_count": null,
      "outputs": []
    },
    {
      "cell_type": "code",
      "source": [
        "# ---- X5: for training, DELAYED ONLY\n",
        "X5 = X3  [ X3['atraso_15'] == 1.0 ] .copy()   \n",
        "print('rows: {:,.0f}    cols: {:,.0f}'.format( X5.shape[0], X5.shape[1] ))"
      ],
      "metadata": {
        "colab": {
          "base_uri": "https://localhost:8080/",
          "height": 34
        },
        "id": "3Sr095JuJnk8",
        "outputId": "f92e46e3-2feb-47dc-d8b6-b32556fe763f"
      },
      "execution_count": 130,
      "outputs": [
        {
          "output_type": "display_data",
          "data": {
            "text/plain": [
              "<IPython.core.display.HTML object>"
            ],
            "text/html": [
              "\n",
              "  <style>\n",
              "    pre {\n",
              "        white-space: pre-wrap;\n",
              "    }\n",
              "  </style>\n",
              "  "
            ]
          },
          "metadata": {}
        },
        {
          "output_type": "stream",
          "name": "stdout",
          "text": [
            "rows: 0    cols: 782\n"
          ]
        }
      ]
    },
    {
      "cell_type": "code",
      "source": [
        "# ---- X6 ---- for training, DELAYED ONLY\n",
        "X6 = X5.copy()\n",
        "y6 = X6[['atraso_15']].copy()                                   # VECTOR\n",
        "print('rows: {:,.0f}    cols: {:,.0f}'.format( y6.shape[0], y6.shape[1] ))\n",
        "X6.drop(columns=['atraso_15'],errors='ignore', inplace=True )   # remueve el vector de la matrix\n",
        "print('rows: {:,.0f}    cols: {:,.0f}'.format( X6.shape[0], X6.shape[1] ))"
      ],
      "metadata": {
        "colab": {
          "base_uri": "https://localhost:8080/",
          "height": 52
        },
        "id": "9vDxKjHdJ7BV",
        "outputId": "6ff2de9d-7376-4fc8-ac67-0123367694b9"
      },
      "execution_count": 75,
      "outputs": [
        {
          "output_type": "display_data",
          "data": {
            "text/plain": [
              "<IPython.core.display.HTML object>"
            ],
            "text/html": [
              "\n",
              "  <style>\n",
              "    pre {\n",
              "        white-space: pre-wrap;\n",
              "    }\n",
              "  </style>\n",
              "  "
            ]
          },
          "metadata": {}
        },
        {
          "output_type": "stream",
          "name": "stdout",
          "text": [
            "rows: 0    cols: 1\n",
            "rows: 0    cols: 781\n"
          ]
        }
      ]
    },
    {
      "cell_type": "code",
      "source": [
        "X_train , X_test , y_train , y_test = train_test_split(\n",
        "    X6,                               # matrix\n",
        "    y6[['atraso_15']],                   # vector\n",
        "    test_size    = 0.33,               # test with 33%, train 77%\n",
        "    random_state = 2020045)\n",
        "\n",
        "# viejo\n",
        "scaler        = StandardScaler()\n",
        "scaler.fit(X_train)  \n",
        "X_test_std    = scaler.transform( X_test )                      # TESTING is FIT only                           # TRAINING is FIT ...\n",
        "X_train_std   = scaler.transform( X_train )                     # and TRANSFORM\n",
        "\n",
        "# ------ MODEL SELECTIONS ------ Create linear regression object\n",
        "model   = LogisticRegression()                                  # Unknown label type: 'continuous'\n",
        "#model   = RidgeClassifierCV()                                   # Ridge classifier with built-in cross-validation.\n",
        "#model   = LogisticRegression(penalty='l2', solver='lbfgs')     # classification with regularization\n",
        "\n",
        "# Train the model using the training sets\n",
        "model.fit( X_train_std , y_train )                              # Unknown label type: 'continuous'\n",
        "\n",
        "# Make predictions using the testing set\n",
        "y_pred_testing = model.predict( X_test_std )\n",
        "#y_pred_prob   = model.predict_proba( X_test_std )[ : , 1 ]     # probabilidad de que sea uno\n",
        "#yhat          = model.predict_proba( X_test_std )[ : , 1 ]\n",
        "\n",
        "# print scores\n",
        "func_model_evaluation ( y_test , y_pred_testing )"
      ],
      "metadata": {
        "colab": {
          "base_uri": "https://localhost:8080/",
          "height": 380
        },
        "id": "D9ojl0r6KmyV",
        "outputId": "662a5953-6376-476f-88eb-64337f774b46"
      },
      "execution_count": 146,
      "outputs": [
        {
          "output_type": "display_data",
          "data": {
            "text/plain": [
              "<IPython.core.display.HTML object>"
            ],
            "text/html": [
              "\n",
              "  <style>\n",
              "    pre {\n",
              "        white-space: pre-wrap;\n",
              "    }\n",
              "  </style>\n",
              "  "
            ]
          },
          "metadata": {}
        },
        {
          "output_type": "error",
          "ename": "KeyError",
          "evalue": "ignored",
          "traceback": [
            "\u001b[0;31m---------------------------------------------------------------------------\u001b[0m",
            "\u001b[0;31mKeyError\u001b[0m                                  Traceback (most recent call last)",
            "\u001b[0;32m<ipython-input-146-a4f1277a97dd>\u001b[0m in \u001b[0;36m<module>\u001b[0;34m\u001b[0m\n\u001b[1;32m      1\u001b[0m X_train , X_test , y_train , y_test = train_test_split(\n\u001b[1;32m      2\u001b[0m     \u001b[0mX1\u001b[0m\u001b[0;34m,\u001b[0m                               \u001b[0;31m# matrix\u001b[0m\u001b[0;34m\u001b[0m\u001b[0;34m\u001b[0m\u001b[0m\n\u001b[0;32m----> 3\u001b[0;31m     \u001b[0my\u001b[0m\u001b[0;34m[\u001b[0m\u001b[0;34m[\u001b[0m\u001b[0;34m'atraso_15'\u001b[0m\u001b[0;34m]\u001b[0m\u001b[0;34m]\u001b[0m\u001b[0;34m,\u001b[0m                   \u001b[0;31m# vector\u001b[0m\u001b[0;34m\u001b[0m\u001b[0;34m\u001b[0m\u001b[0m\n\u001b[0m\u001b[1;32m      4\u001b[0m     \u001b[0mtest_size\u001b[0m    \u001b[0;34m=\u001b[0m \u001b[0;36m0.33\u001b[0m\u001b[0;34m,\u001b[0m               \u001b[0;31m# test with 33%, train 77%\u001b[0m\u001b[0;34m\u001b[0m\u001b[0;34m\u001b[0m\u001b[0m\n\u001b[1;32m      5\u001b[0m     random_state = 2020045)\n",
            "\u001b[0;32m/usr/local/lib/python3.8/dist-packages/pandas/core/series.py\u001b[0m in \u001b[0;36m__getitem__\u001b[0;34m(self, key)\u001b[0m\n\u001b[1;32m    964\u001b[0m             \u001b[0;32mreturn\u001b[0m \u001b[0mself\u001b[0m\u001b[0;34m.\u001b[0m\u001b[0m_get_values\u001b[0m\u001b[0;34m(\u001b[0m\u001b[0mkey\u001b[0m\u001b[0;34m)\u001b[0m\u001b[0;34m\u001b[0m\u001b[0;34m\u001b[0m\u001b[0m\n\u001b[1;32m    965\u001b[0m \u001b[0;34m\u001b[0m\u001b[0m\n\u001b[0;32m--> 966\u001b[0;31m         \u001b[0;32mreturn\u001b[0m \u001b[0mself\u001b[0m\u001b[0;34m.\u001b[0m\u001b[0m_get_with\u001b[0m\u001b[0;34m(\u001b[0m\u001b[0mkey\u001b[0m\u001b[0;34m)\u001b[0m\u001b[0;34m\u001b[0m\u001b[0;34m\u001b[0m\u001b[0m\n\u001b[0m\u001b[1;32m    967\u001b[0m \u001b[0;34m\u001b[0m\u001b[0m\n\u001b[1;32m    968\u001b[0m     \u001b[0;32mdef\u001b[0m \u001b[0m_get_with\u001b[0m\u001b[0;34m(\u001b[0m\u001b[0mself\u001b[0m\u001b[0;34m,\u001b[0m \u001b[0mkey\u001b[0m\u001b[0;34m)\u001b[0m\u001b[0;34m:\u001b[0m\u001b[0;34m\u001b[0m\u001b[0;34m\u001b[0m\u001b[0m\n",
            "\u001b[0;32m/usr/local/lib/python3.8/dist-packages/pandas/core/series.py\u001b[0m in \u001b[0;36m_get_with\u001b[0;34m(self, key)\u001b[0m\n\u001b[1;32m   1004\u001b[0m \u001b[0;34m\u001b[0m\u001b[0m\n\u001b[1;32m   1005\u001b[0m         \u001b[0;31m# handle the dup indexing case GH#4246\u001b[0m\u001b[0;34m\u001b[0m\u001b[0;34m\u001b[0m\u001b[0;34m\u001b[0m\u001b[0m\n\u001b[0;32m-> 1006\u001b[0;31m         \u001b[0;32mreturn\u001b[0m \u001b[0mself\u001b[0m\u001b[0;34m.\u001b[0m\u001b[0mloc\u001b[0m\u001b[0;34m[\u001b[0m\u001b[0mkey\u001b[0m\u001b[0;34m]\u001b[0m\u001b[0;34m\u001b[0m\u001b[0;34m\u001b[0m\u001b[0m\n\u001b[0m\u001b[1;32m   1007\u001b[0m \u001b[0;34m\u001b[0m\u001b[0m\n\u001b[1;32m   1008\u001b[0m     \u001b[0;32mdef\u001b[0m \u001b[0m_get_values_tuple\u001b[0m\u001b[0;34m(\u001b[0m\u001b[0mself\u001b[0m\u001b[0;34m,\u001b[0m \u001b[0mkey\u001b[0m\u001b[0;34m)\u001b[0m\u001b[0;34m:\u001b[0m\u001b[0;34m\u001b[0m\u001b[0;34m\u001b[0m\u001b[0m\n",
            "\u001b[0;32m/usr/local/lib/python3.8/dist-packages/pandas/core/indexing.py\u001b[0m in \u001b[0;36m__getitem__\u001b[0;34m(self, key)\u001b[0m\n\u001b[1;32m    929\u001b[0m \u001b[0;34m\u001b[0m\u001b[0m\n\u001b[1;32m    930\u001b[0m             \u001b[0mmaybe_callable\u001b[0m \u001b[0;34m=\u001b[0m \u001b[0mcom\u001b[0m\u001b[0;34m.\u001b[0m\u001b[0mapply_if_callable\u001b[0m\u001b[0;34m(\u001b[0m\u001b[0mkey\u001b[0m\u001b[0;34m,\u001b[0m \u001b[0mself\u001b[0m\u001b[0;34m.\u001b[0m\u001b[0mobj\u001b[0m\u001b[0;34m)\u001b[0m\u001b[0;34m\u001b[0m\u001b[0;34m\u001b[0m\u001b[0m\n\u001b[0;32m--> 931\u001b[0;31m             \u001b[0;32mreturn\u001b[0m \u001b[0mself\u001b[0m\u001b[0;34m.\u001b[0m\u001b[0m_getitem_axis\u001b[0m\u001b[0;34m(\u001b[0m\u001b[0mmaybe_callable\u001b[0m\u001b[0;34m,\u001b[0m \u001b[0maxis\u001b[0m\u001b[0;34m=\u001b[0m\u001b[0maxis\u001b[0m\u001b[0;34m)\u001b[0m\u001b[0;34m\u001b[0m\u001b[0;34m\u001b[0m\u001b[0m\n\u001b[0m\u001b[1;32m    932\u001b[0m \u001b[0;34m\u001b[0m\u001b[0m\n\u001b[1;32m    933\u001b[0m     \u001b[0;32mdef\u001b[0m \u001b[0m_is_scalar_access\u001b[0m\u001b[0;34m(\u001b[0m\u001b[0mself\u001b[0m\u001b[0;34m,\u001b[0m \u001b[0mkey\u001b[0m\u001b[0;34m:\u001b[0m \u001b[0mtuple\u001b[0m\u001b[0;34m)\u001b[0m\u001b[0;34m:\u001b[0m\u001b[0;34m\u001b[0m\u001b[0;34m\u001b[0m\u001b[0m\n",
            "\u001b[0;32m/usr/local/lib/python3.8/dist-packages/pandas/core/indexing.py\u001b[0m in \u001b[0;36m_getitem_axis\u001b[0;34m(self, key, axis)\u001b[0m\n\u001b[1;32m   1151\u001b[0m                     \u001b[0;32mraise\u001b[0m \u001b[0mValueError\u001b[0m\u001b[0;34m(\u001b[0m\u001b[0;34m\"Cannot index with multidimensional key\"\u001b[0m\u001b[0;34m)\u001b[0m\u001b[0;34m\u001b[0m\u001b[0;34m\u001b[0m\u001b[0m\n\u001b[1;32m   1152\u001b[0m \u001b[0;34m\u001b[0m\u001b[0m\n\u001b[0;32m-> 1153\u001b[0;31m                 \u001b[0;32mreturn\u001b[0m \u001b[0mself\u001b[0m\u001b[0;34m.\u001b[0m\u001b[0m_getitem_iterable\u001b[0m\u001b[0;34m(\u001b[0m\u001b[0mkey\u001b[0m\u001b[0;34m,\u001b[0m \u001b[0maxis\u001b[0m\u001b[0;34m=\u001b[0m\u001b[0maxis\u001b[0m\u001b[0;34m)\u001b[0m\u001b[0;34m\u001b[0m\u001b[0;34m\u001b[0m\u001b[0m\n\u001b[0m\u001b[1;32m   1154\u001b[0m \u001b[0;34m\u001b[0m\u001b[0m\n\u001b[1;32m   1155\u001b[0m             \u001b[0;31m# nested tuple slicing\u001b[0m\u001b[0;34m\u001b[0m\u001b[0;34m\u001b[0m\u001b[0;34m\u001b[0m\u001b[0m\n",
            "\u001b[0;32m/usr/local/lib/python3.8/dist-packages/pandas/core/indexing.py\u001b[0m in \u001b[0;36m_getitem_iterable\u001b[0;34m(self, key, axis)\u001b[0m\n\u001b[1;32m   1091\u001b[0m \u001b[0;34m\u001b[0m\u001b[0m\n\u001b[1;32m   1092\u001b[0m         \u001b[0;31m# A collection of keys\u001b[0m\u001b[0;34m\u001b[0m\u001b[0;34m\u001b[0m\u001b[0;34m\u001b[0m\u001b[0m\n\u001b[0;32m-> 1093\u001b[0;31m         \u001b[0mkeyarr\u001b[0m\u001b[0;34m,\u001b[0m \u001b[0mindexer\u001b[0m \u001b[0;34m=\u001b[0m \u001b[0mself\u001b[0m\u001b[0;34m.\u001b[0m\u001b[0m_get_listlike_indexer\u001b[0m\u001b[0;34m(\u001b[0m\u001b[0mkey\u001b[0m\u001b[0;34m,\u001b[0m \u001b[0maxis\u001b[0m\u001b[0;34m)\u001b[0m\u001b[0;34m\u001b[0m\u001b[0;34m\u001b[0m\u001b[0m\n\u001b[0m\u001b[1;32m   1094\u001b[0m         return self.obj._reindex_with_indexers(\n\u001b[1;32m   1095\u001b[0m             \u001b[0;34m{\u001b[0m\u001b[0maxis\u001b[0m\u001b[0;34m:\u001b[0m \u001b[0;34m[\u001b[0m\u001b[0mkeyarr\u001b[0m\u001b[0;34m,\u001b[0m \u001b[0mindexer\u001b[0m\u001b[0;34m]\u001b[0m\u001b[0;34m}\u001b[0m\u001b[0;34m,\u001b[0m \u001b[0mcopy\u001b[0m\u001b[0;34m=\u001b[0m\u001b[0;32mTrue\u001b[0m\u001b[0;34m,\u001b[0m \u001b[0mallow_dups\u001b[0m\u001b[0;34m=\u001b[0m\u001b[0;32mTrue\u001b[0m\u001b[0;34m\u001b[0m\u001b[0;34m\u001b[0m\u001b[0m\n",
            "\u001b[0;32m/usr/local/lib/python3.8/dist-packages/pandas/core/indexing.py\u001b[0m in \u001b[0;36m_get_listlike_indexer\u001b[0;34m(self, key, axis)\u001b[0m\n\u001b[1;32m   1312\u001b[0m             \u001b[0mkeyarr\u001b[0m\u001b[0;34m,\u001b[0m \u001b[0mindexer\u001b[0m\u001b[0;34m,\u001b[0m \u001b[0mnew_indexer\u001b[0m \u001b[0;34m=\u001b[0m \u001b[0max\u001b[0m\u001b[0;34m.\u001b[0m\u001b[0m_reindex_non_unique\u001b[0m\u001b[0;34m(\u001b[0m\u001b[0mkeyarr\u001b[0m\u001b[0;34m)\u001b[0m\u001b[0;34m\u001b[0m\u001b[0;34m\u001b[0m\u001b[0m\n\u001b[1;32m   1313\u001b[0m \u001b[0;34m\u001b[0m\u001b[0m\n\u001b[0;32m-> 1314\u001b[0;31m         \u001b[0mself\u001b[0m\u001b[0;34m.\u001b[0m\u001b[0m_validate_read_indexer\u001b[0m\u001b[0;34m(\u001b[0m\u001b[0mkeyarr\u001b[0m\u001b[0;34m,\u001b[0m \u001b[0mindexer\u001b[0m\u001b[0;34m,\u001b[0m \u001b[0maxis\u001b[0m\u001b[0;34m)\u001b[0m\u001b[0;34m\u001b[0m\u001b[0;34m\u001b[0m\u001b[0m\n\u001b[0m\u001b[1;32m   1315\u001b[0m \u001b[0;34m\u001b[0m\u001b[0m\n\u001b[1;32m   1316\u001b[0m         if needs_i8_conversion(ax.dtype) or isinstance(\n",
            "\u001b[0;32m/usr/local/lib/python3.8/dist-packages/pandas/core/indexing.py\u001b[0m in \u001b[0;36m_validate_read_indexer\u001b[0;34m(self, key, indexer, axis)\u001b[0m\n\u001b[1;32m   1372\u001b[0m                 \u001b[0;32mif\u001b[0m \u001b[0muse_interval_msg\u001b[0m\u001b[0;34m:\u001b[0m\u001b[0;34m\u001b[0m\u001b[0;34m\u001b[0m\u001b[0m\n\u001b[1;32m   1373\u001b[0m                     \u001b[0mkey\u001b[0m \u001b[0;34m=\u001b[0m \u001b[0mlist\u001b[0m\u001b[0;34m(\u001b[0m\u001b[0mkey\u001b[0m\u001b[0;34m)\u001b[0m\u001b[0;34m\u001b[0m\u001b[0;34m\u001b[0m\u001b[0m\n\u001b[0;32m-> 1374\u001b[0;31m                 \u001b[0;32mraise\u001b[0m \u001b[0mKeyError\u001b[0m\u001b[0;34m(\u001b[0m\u001b[0;34mf\"None of [{key}] are in the [{axis_name}]\"\u001b[0m\u001b[0;34m)\u001b[0m\u001b[0;34m\u001b[0m\u001b[0;34m\u001b[0m\u001b[0m\n\u001b[0m\u001b[1;32m   1375\u001b[0m \u001b[0;34m\u001b[0m\u001b[0m\n\u001b[1;32m   1376\u001b[0m             \u001b[0mnot_found\u001b[0m \u001b[0;34m=\u001b[0m \u001b[0mlist\u001b[0m\u001b[0;34m(\u001b[0m\u001b[0mensure_index\u001b[0m\u001b[0;34m(\u001b[0m\u001b[0mkey\u001b[0m\u001b[0;34m)\u001b[0m\u001b[0;34m[\u001b[0m\u001b[0mmissing_mask\u001b[0m\u001b[0;34m.\u001b[0m\u001b[0mnonzero\u001b[0m\u001b[0;34m(\u001b[0m\u001b[0;34m)\u001b[0m\u001b[0;34m[\u001b[0m\u001b[0;36m0\u001b[0m\u001b[0;34m]\u001b[0m\u001b[0;34m]\u001b[0m\u001b[0;34m.\u001b[0m\u001b[0munique\u001b[0m\u001b[0;34m(\u001b[0m\u001b[0;34m)\u001b[0m\u001b[0;34m)\u001b[0m\u001b[0;34m\u001b[0m\u001b[0;34m\u001b[0m\u001b[0m\n",
            "\u001b[0;31mKeyError\u001b[0m: \"None of [Index(['atraso_15'], dtype='object')] are in the [index]\""
          ]
        }
      ]
    },
    {
      "cell_type": "code",
      "source": [
        "display(y[['atraso_15']])"
      ],
      "metadata": {
        "colab": {
          "base_uri": "https://localhost:8080/",
          "height": 311
        },
        "id": "SpX-kNrdM77p",
        "outputId": "190888b5-cc96-48fe-8b7d-24250e5a2b9f"
      },
      "execution_count": 87,
      "outputs": [
        {
          "output_type": "display_data",
          "data": {
            "text/plain": [
              "<IPython.core.display.HTML object>"
            ],
            "text/html": [
              "\n",
              "  <style>\n",
              "    pre {\n",
              "        white-space: pre-wrap;\n",
              "    }\n",
              "  </style>\n",
              "  "
            ]
          },
          "metadata": {}
        },
        {
          "output_type": "error",
          "ename": "KeyError",
          "evalue": "ignored",
          "traceback": [
            "\u001b[0;31m---------------------------------------------------------------------------\u001b[0m",
            "\u001b[0;31mKeyError\u001b[0m                                  Traceback (most recent call last)",
            "\u001b[0;32m<ipython-input-87-71e922947c1f>\u001b[0m in \u001b[0;36m<module>\u001b[0;34m\u001b[0m\n\u001b[0;32m----> 1\u001b[0;31m \u001b[0mdisplay\u001b[0m\u001b[0;34m(\u001b[0m\u001b[0my\u001b[0m\u001b[0;34m[\u001b[0m\u001b[0;34m[\u001b[0m\u001b[0;34m'atraso_15'\u001b[0m\u001b[0;34m]\u001b[0m\u001b[0;34m]\u001b[0m\u001b[0;34m)\u001b[0m\u001b[0;34m\u001b[0m\u001b[0;34m\u001b[0m\u001b[0m\n\u001b[0m",
            "\u001b[0;32m/usr/local/lib/python3.8/dist-packages/pandas/core/series.py\u001b[0m in \u001b[0;36m__getitem__\u001b[0;34m(self, key)\u001b[0m\n\u001b[1;32m    964\u001b[0m             \u001b[0;32mreturn\u001b[0m \u001b[0mself\u001b[0m\u001b[0;34m.\u001b[0m\u001b[0m_get_values\u001b[0m\u001b[0;34m(\u001b[0m\u001b[0mkey\u001b[0m\u001b[0;34m)\u001b[0m\u001b[0;34m\u001b[0m\u001b[0;34m\u001b[0m\u001b[0m\n\u001b[1;32m    965\u001b[0m \u001b[0;34m\u001b[0m\u001b[0m\n\u001b[0;32m--> 966\u001b[0;31m         \u001b[0;32mreturn\u001b[0m \u001b[0mself\u001b[0m\u001b[0;34m.\u001b[0m\u001b[0m_get_with\u001b[0m\u001b[0;34m(\u001b[0m\u001b[0mkey\u001b[0m\u001b[0;34m)\u001b[0m\u001b[0;34m\u001b[0m\u001b[0;34m\u001b[0m\u001b[0m\n\u001b[0m\u001b[1;32m    967\u001b[0m \u001b[0;34m\u001b[0m\u001b[0m\n\u001b[1;32m    968\u001b[0m     \u001b[0;32mdef\u001b[0m \u001b[0m_get_with\u001b[0m\u001b[0;34m(\u001b[0m\u001b[0mself\u001b[0m\u001b[0;34m,\u001b[0m \u001b[0mkey\u001b[0m\u001b[0;34m)\u001b[0m\u001b[0;34m:\u001b[0m\u001b[0;34m\u001b[0m\u001b[0;34m\u001b[0m\u001b[0m\n",
            "\u001b[0;32m/usr/local/lib/python3.8/dist-packages/pandas/core/series.py\u001b[0m in \u001b[0;36m_get_with\u001b[0;34m(self, key)\u001b[0m\n\u001b[1;32m   1004\u001b[0m \u001b[0;34m\u001b[0m\u001b[0m\n\u001b[1;32m   1005\u001b[0m         \u001b[0;31m# handle the dup indexing case GH#4246\u001b[0m\u001b[0;34m\u001b[0m\u001b[0;34m\u001b[0m\u001b[0;34m\u001b[0m\u001b[0m\n\u001b[0;32m-> 1006\u001b[0;31m         \u001b[0;32mreturn\u001b[0m \u001b[0mself\u001b[0m\u001b[0;34m.\u001b[0m\u001b[0mloc\u001b[0m\u001b[0;34m[\u001b[0m\u001b[0mkey\u001b[0m\u001b[0;34m]\u001b[0m\u001b[0;34m\u001b[0m\u001b[0;34m\u001b[0m\u001b[0m\n\u001b[0m\u001b[1;32m   1007\u001b[0m \u001b[0;34m\u001b[0m\u001b[0m\n\u001b[1;32m   1008\u001b[0m     \u001b[0;32mdef\u001b[0m \u001b[0m_get_values_tuple\u001b[0m\u001b[0;34m(\u001b[0m\u001b[0mself\u001b[0m\u001b[0;34m,\u001b[0m \u001b[0mkey\u001b[0m\u001b[0;34m)\u001b[0m\u001b[0;34m:\u001b[0m\u001b[0;34m\u001b[0m\u001b[0;34m\u001b[0m\u001b[0m\n",
            "\u001b[0;32m/usr/local/lib/python3.8/dist-packages/pandas/core/indexing.py\u001b[0m in \u001b[0;36m__getitem__\u001b[0;34m(self, key)\u001b[0m\n\u001b[1;32m    929\u001b[0m \u001b[0;34m\u001b[0m\u001b[0m\n\u001b[1;32m    930\u001b[0m             \u001b[0mmaybe_callable\u001b[0m \u001b[0;34m=\u001b[0m \u001b[0mcom\u001b[0m\u001b[0;34m.\u001b[0m\u001b[0mapply_if_callable\u001b[0m\u001b[0;34m(\u001b[0m\u001b[0mkey\u001b[0m\u001b[0;34m,\u001b[0m \u001b[0mself\u001b[0m\u001b[0;34m.\u001b[0m\u001b[0mobj\u001b[0m\u001b[0;34m)\u001b[0m\u001b[0;34m\u001b[0m\u001b[0;34m\u001b[0m\u001b[0m\n\u001b[0;32m--> 931\u001b[0;31m             \u001b[0;32mreturn\u001b[0m \u001b[0mself\u001b[0m\u001b[0;34m.\u001b[0m\u001b[0m_getitem_axis\u001b[0m\u001b[0;34m(\u001b[0m\u001b[0mmaybe_callable\u001b[0m\u001b[0;34m,\u001b[0m \u001b[0maxis\u001b[0m\u001b[0;34m=\u001b[0m\u001b[0maxis\u001b[0m\u001b[0;34m)\u001b[0m\u001b[0;34m\u001b[0m\u001b[0;34m\u001b[0m\u001b[0m\n\u001b[0m\u001b[1;32m    932\u001b[0m \u001b[0;34m\u001b[0m\u001b[0m\n\u001b[1;32m    933\u001b[0m     \u001b[0;32mdef\u001b[0m \u001b[0m_is_scalar_access\u001b[0m\u001b[0;34m(\u001b[0m\u001b[0mself\u001b[0m\u001b[0;34m,\u001b[0m \u001b[0mkey\u001b[0m\u001b[0;34m:\u001b[0m \u001b[0mtuple\u001b[0m\u001b[0;34m)\u001b[0m\u001b[0;34m:\u001b[0m\u001b[0;34m\u001b[0m\u001b[0;34m\u001b[0m\u001b[0m\n",
            "\u001b[0;32m/usr/local/lib/python3.8/dist-packages/pandas/core/indexing.py\u001b[0m in \u001b[0;36m_getitem_axis\u001b[0;34m(self, key, axis)\u001b[0m\n\u001b[1;32m   1151\u001b[0m                     \u001b[0;32mraise\u001b[0m \u001b[0mValueError\u001b[0m\u001b[0;34m(\u001b[0m\u001b[0;34m\"Cannot index with multidimensional key\"\u001b[0m\u001b[0;34m)\u001b[0m\u001b[0;34m\u001b[0m\u001b[0;34m\u001b[0m\u001b[0m\n\u001b[1;32m   1152\u001b[0m \u001b[0;34m\u001b[0m\u001b[0m\n\u001b[0;32m-> 1153\u001b[0;31m                 \u001b[0;32mreturn\u001b[0m \u001b[0mself\u001b[0m\u001b[0;34m.\u001b[0m\u001b[0m_getitem_iterable\u001b[0m\u001b[0;34m(\u001b[0m\u001b[0mkey\u001b[0m\u001b[0;34m,\u001b[0m \u001b[0maxis\u001b[0m\u001b[0;34m=\u001b[0m\u001b[0maxis\u001b[0m\u001b[0;34m)\u001b[0m\u001b[0;34m\u001b[0m\u001b[0;34m\u001b[0m\u001b[0m\n\u001b[0m\u001b[1;32m   1154\u001b[0m \u001b[0;34m\u001b[0m\u001b[0m\n\u001b[1;32m   1155\u001b[0m             \u001b[0;31m# nested tuple slicing\u001b[0m\u001b[0;34m\u001b[0m\u001b[0;34m\u001b[0m\u001b[0;34m\u001b[0m\u001b[0m\n",
            "\u001b[0;32m/usr/local/lib/python3.8/dist-packages/pandas/core/indexing.py\u001b[0m in \u001b[0;36m_getitem_iterable\u001b[0;34m(self, key, axis)\u001b[0m\n\u001b[1;32m   1091\u001b[0m \u001b[0;34m\u001b[0m\u001b[0m\n\u001b[1;32m   1092\u001b[0m         \u001b[0;31m# A collection of keys\u001b[0m\u001b[0;34m\u001b[0m\u001b[0;34m\u001b[0m\u001b[0;34m\u001b[0m\u001b[0m\n\u001b[0;32m-> 1093\u001b[0;31m         \u001b[0mkeyarr\u001b[0m\u001b[0;34m,\u001b[0m \u001b[0mindexer\u001b[0m \u001b[0;34m=\u001b[0m \u001b[0mself\u001b[0m\u001b[0;34m.\u001b[0m\u001b[0m_get_listlike_indexer\u001b[0m\u001b[0;34m(\u001b[0m\u001b[0mkey\u001b[0m\u001b[0;34m,\u001b[0m \u001b[0maxis\u001b[0m\u001b[0;34m)\u001b[0m\u001b[0;34m\u001b[0m\u001b[0;34m\u001b[0m\u001b[0m\n\u001b[0m\u001b[1;32m   1094\u001b[0m         return self.obj._reindex_with_indexers(\n\u001b[1;32m   1095\u001b[0m             \u001b[0;34m{\u001b[0m\u001b[0maxis\u001b[0m\u001b[0;34m:\u001b[0m \u001b[0;34m[\u001b[0m\u001b[0mkeyarr\u001b[0m\u001b[0;34m,\u001b[0m \u001b[0mindexer\u001b[0m\u001b[0;34m]\u001b[0m\u001b[0;34m}\u001b[0m\u001b[0;34m,\u001b[0m \u001b[0mcopy\u001b[0m\u001b[0;34m=\u001b[0m\u001b[0;32mTrue\u001b[0m\u001b[0;34m,\u001b[0m \u001b[0mallow_dups\u001b[0m\u001b[0;34m=\u001b[0m\u001b[0;32mTrue\u001b[0m\u001b[0;34m\u001b[0m\u001b[0;34m\u001b[0m\u001b[0m\n",
            "\u001b[0;32m/usr/local/lib/python3.8/dist-packages/pandas/core/indexing.py\u001b[0m in \u001b[0;36m_get_listlike_indexer\u001b[0;34m(self, key, axis)\u001b[0m\n\u001b[1;32m   1312\u001b[0m             \u001b[0mkeyarr\u001b[0m\u001b[0;34m,\u001b[0m \u001b[0mindexer\u001b[0m\u001b[0;34m,\u001b[0m \u001b[0mnew_indexer\u001b[0m \u001b[0;34m=\u001b[0m \u001b[0max\u001b[0m\u001b[0;34m.\u001b[0m\u001b[0m_reindex_non_unique\u001b[0m\u001b[0;34m(\u001b[0m\u001b[0mkeyarr\u001b[0m\u001b[0;34m)\u001b[0m\u001b[0;34m\u001b[0m\u001b[0;34m\u001b[0m\u001b[0m\n\u001b[1;32m   1313\u001b[0m \u001b[0;34m\u001b[0m\u001b[0m\n\u001b[0;32m-> 1314\u001b[0;31m         \u001b[0mself\u001b[0m\u001b[0;34m.\u001b[0m\u001b[0m_validate_read_indexer\u001b[0m\u001b[0;34m(\u001b[0m\u001b[0mkeyarr\u001b[0m\u001b[0;34m,\u001b[0m \u001b[0mindexer\u001b[0m\u001b[0;34m,\u001b[0m \u001b[0maxis\u001b[0m\u001b[0;34m)\u001b[0m\u001b[0;34m\u001b[0m\u001b[0;34m\u001b[0m\u001b[0m\n\u001b[0m\u001b[1;32m   1315\u001b[0m \u001b[0;34m\u001b[0m\u001b[0m\n\u001b[1;32m   1316\u001b[0m         if needs_i8_conversion(ax.dtype) or isinstance(\n",
            "\u001b[0;32m/usr/local/lib/python3.8/dist-packages/pandas/core/indexing.py\u001b[0m in \u001b[0;36m_validate_read_indexer\u001b[0;34m(self, key, indexer, axis)\u001b[0m\n\u001b[1;32m   1372\u001b[0m                 \u001b[0;32mif\u001b[0m \u001b[0muse_interval_msg\u001b[0m\u001b[0;34m:\u001b[0m\u001b[0;34m\u001b[0m\u001b[0;34m\u001b[0m\u001b[0m\n\u001b[1;32m   1373\u001b[0m                     \u001b[0mkey\u001b[0m \u001b[0;34m=\u001b[0m \u001b[0mlist\u001b[0m\u001b[0;34m(\u001b[0m\u001b[0mkey\u001b[0m\u001b[0;34m)\u001b[0m\u001b[0;34m\u001b[0m\u001b[0;34m\u001b[0m\u001b[0m\n\u001b[0;32m-> 1374\u001b[0;31m                 \u001b[0;32mraise\u001b[0m \u001b[0mKeyError\u001b[0m\u001b[0;34m(\u001b[0m\u001b[0;34mf\"None of [{key}] are in the [{axis_name}]\"\u001b[0m\u001b[0;34m)\u001b[0m\u001b[0;34m\u001b[0m\u001b[0;34m\u001b[0m\u001b[0m\n\u001b[0m\u001b[1;32m   1375\u001b[0m \u001b[0;34m\u001b[0m\u001b[0m\n\u001b[1;32m   1376\u001b[0m             \u001b[0mnot_found\u001b[0m \u001b[0;34m=\u001b[0m \u001b[0mlist\u001b[0m\u001b[0;34m(\u001b[0m\u001b[0mensure_index\u001b[0m\u001b[0;34m(\u001b[0m\u001b[0mkey\u001b[0m\u001b[0;34m)\u001b[0m\u001b[0;34m[\u001b[0m\u001b[0mmissing_mask\u001b[0m\u001b[0;34m.\u001b[0m\u001b[0mnonzero\u001b[0m\u001b[0;34m(\u001b[0m\u001b[0;34m)\u001b[0m\u001b[0;34m[\u001b[0m\u001b[0;36m0\u001b[0m\u001b[0;34m]\u001b[0m\u001b[0;34m]\u001b[0m\u001b[0;34m.\u001b[0m\u001b[0munique\u001b[0m\u001b[0;34m(\u001b[0m\u001b[0;34m)\u001b[0m\u001b[0;34m)\u001b[0m\u001b[0;34m\u001b[0m\u001b[0;34m\u001b[0m\u001b[0m\n",
            "\u001b[0;31mKeyError\u001b[0m: \"None of [Index(['atraso_15'], dtype='object')] are in the [index]\""
          ]
        }
      ]
    },
    {
      "cell_type": "code",
      "source": [
        "exp_clf101 = setup( \n",
        "    data        = pd.concat([ X3 , y['atraso_15'] ], axis=1 ),\n",
        "    target      = 'atraso_15',\n",
        "    session_id  = 123,\n",
        "    profile     = True )            # profile true for EDA"
      ],
      "metadata": {
        "colab": {
          "base_uri": "https://localhost:8080/",
          "height": 380
        },
        "id": "XzBdZdTtLAac",
        "outputId": "cbd8445c-e089-447e-f612-54500c325d73"
      },
      "execution_count": 149,
      "outputs": [
        {
          "output_type": "display_data",
          "data": {
            "text/plain": [
              "<IPython.core.display.HTML object>"
            ],
            "text/html": [
              "\n",
              "  <style>\n",
              "    pre {\n",
              "        white-space: pre-wrap;\n",
              "    }\n",
              "  </style>\n",
              "  "
            ]
          },
          "metadata": {}
        },
        {
          "output_type": "error",
          "ename": "KeyError",
          "evalue": "ignored",
          "traceback": [
            "\u001b[0;31m---------------------------------------------------------------------------\u001b[0m",
            "\u001b[0;31mKeyError\u001b[0m                                  Traceback (most recent call last)",
            "\u001b[0;32m<ipython-input-149-0df890d86b53>\u001b[0m in \u001b[0;36m<module>\u001b[0;34m\u001b[0m\n\u001b[1;32m      1\u001b[0m exp_clf101 = setup( \n\u001b[0;32m----> 2\u001b[0;31m     \u001b[0mdata\u001b[0m        \u001b[0;34m=\u001b[0m \u001b[0mpd\u001b[0m\u001b[0;34m.\u001b[0m\u001b[0mconcat\u001b[0m\u001b[0;34m(\u001b[0m\u001b[0;34m[\u001b[0m \u001b[0mX3\u001b[0m \u001b[0;34m,\u001b[0m \u001b[0my\u001b[0m\u001b[0;34m[\u001b[0m\u001b[0;34m'atraso_15'\u001b[0m\u001b[0;34m]\u001b[0m \u001b[0;34m]\u001b[0m\u001b[0;34m,\u001b[0m \u001b[0maxis\u001b[0m\u001b[0;34m=\u001b[0m\u001b[0;36m1\u001b[0m \u001b[0;34m)\u001b[0m\u001b[0;34m,\u001b[0m\u001b[0;34m\u001b[0m\u001b[0;34m\u001b[0m\u001b[0m\n\u001b[0m\u001b[1;32m      3\u001b[0m     \u001b[0mtarget\u001b[0m      \u001b[0;34m=\u001b[0m \u001b[0;34m'atraso_15'\u001b[0m\u001b[0;34m,\u001b[0m\u001b[0;34m\u001b[0m\u001b[0;34m\u001b[0m\u001b[0m\n\u001b[1;32m      4\u001b[0m     \u001b[0msession_id\u001b[0m  \u001b[0;34m=\u001b[0m \u001b[0;36m123\u001b[0m\u001b[0;34m,\u001b[0m\u001b[0;34m\u001b[0m\u001b[0;34m\u001b[0m\u001b[0m\n\u001b[1;32m      5\u001b[0m     profile     = True )            # profile true for EDA\n",
            "\u001b[0;32m/usr/local/lib/python3.8/dist-packages/pandas/core/series.py\u001b[0m in \u001b[0;36m__getitem__\u001b[0;34m(self, key)\u001b[0m\n\u001b[1;32m    940\u001b[0m \u001b[0;34m\u001b[0m\u001b[0m\n\u001b[1;32m    941\u001b[0m         \u001b[0;32melif\u001b[0m \u001b[0mkey_is_scalar\u001b[0m\u001b[0;34m:\u001b[0m\u001b[0;34m\u001b[0m\u001b[0;34m\u001b[0m\u001b[0m\n\u001b[0;32m--> 942\u001b[0;31m             \u001b[0;32mreturn\u001b[0m \u001b[0mself\u001b[0m\u001b[0;34m.\u001b[0m\u001b[0m_get_value\u001b[0m\u001b[0;34m(\u001b[0m\u001b[0mkey\u001b[0m\u001b[0;34m)\u001b[0m\u001b[0;34m\u001b[0m\u001b[0;34m\u001b[0m\u001b[0m\n\u001b[0m\u001b[1;32m    943\u001b[0m \u001b[0;34m\u001b[0m\u001b[0m\n\u001b[1;32m    944\u001b[0m         \u001b[0;32mif\u001b[0m \u001b[0mis_hashable\u001b[0m\u001b[0;34m(\u001b[0m\u001b[0mkey\u001b[0m\u001b[0;34m)\u001b[0m\u001b[0;34m:\u001b[0m\u001b[0;34m\u001b[0m\u001b[0;34m\u001b[0m\u001b[0m\n",
            "\u001b[0;32m/usr/local/lib/python3.8/dist-packages/pandas/core/series.py\u001b[0m in \u001b[0;36m_get_value\u001b[0;34m(self, label, takeable)\u001b[0m\n\u001b[1;32m   1049\u001b[0m \u001b[0;34m\u001b[0m\u001b[0m\n\u001b[1;32m   1050\u001b[0m         \u001b[0;31m# Similar to Index.get_value, but we do not fall back to positional\u001b[0m\u001b[0;34m\u001b[0m\u001b[0;34m\u001b[0m\u001b[0;34m\u001b[0m\u001b[0m\n\u001b[0;32m-> 1051\u001b[0;31m         \u001b[0mloc\u001b[0m \u001b[0;34m=\u001b[0m \u001b[0mself\u001b[0m\u001b[0;34m.\u001b[0m\u001b[0mindex\u001b[0m\u001b[0;34m.\u001b[0m\u001b[0mget_loc\u001b[0m\u001b[0;34m(\u001b[0m\u001b[0mlabel\u001b[0m\u001b[0;34m)\u001b[0m\u001b[0;34m\u001b[0m\u001b[0;34m\u001b[0m\u001b[0m\n\u001b[0m\u001b[1;32m   1052\u001b[0m         \u001b[0;32mreturn\u001b[0m \u001b[0mself\u001b[0m\u001b[0;34m.\u001b[0m\u001b[0mindex\u001b[0m\u001b[0;34m.\u001b[0m\u001b[0m_get_values_for_loc\u001b[0m\u001b[0;34m(\u001b[0m\u001b[0mself\u001b[0m\u001b[0;34m,\u001b[0m \u001b[0mloc\u001b[0m\u001b[0;34m,\u001b[0m \u001b[0mlabel\u001b[0m\u001b[0;34m)\u001b[0m\u001b[0;34m\u001b[0m\u001b[0;34m\u001b[0m\u001b[0m\n\u001b[1;32m   1053\u001b[0m \u001b[0;34m\u001b[0m\u001b[0m\n",
            "\u001b[0;32m/usr/local/lib/python3.8/dist-packages/pandas/core/indexes/range.py\u001b[0m in \u001b[0;36mget_loc\u001b[0;34m(self, key, method, tolerance)\u001b[0m\n\u001b[1;32m    386\u001b[0m                 \u001b[0;32mexcept\u001b[0m \u001b[0mValueError\u001b[0m \u001b[0;32mas\u001b[0m \u001b[0merr\u001b[0m\u001b[0;34m:\u001b[0m\u001b[0;34m\u001b[0m\u001b[0;34m\u001b[0m\u001b[0m\n\u001b[1;32m    387\u001b[0m                     \u001b[0;32mraise\u001b[0m \u001b[0mKeyError\u001b[0m\u001b[0;34m(\u001b[0m\u001b[0mkey\u001b[0m\u001b[0;34m)\u001b[0m \u001b[0;32mfrom\u001b[0m \u001b[0merr\u001b[0m\u001b[0;34m\u001b[0m\u001b[0;34m\u001b[0m\u001b[0m\n\u001b[0;32m--> 388\u001b[0;31m             \u001b[0;32mraise\u001b[0m \u001b[0mKeyError\u001b[0m\u001b[0;34m(\u001b[0m\u001b[0mkey\u001b[0m\u001b[0;34m)\u001b[0m\u001b[0;34m\u001b[0m\u001b[0;34m\u001b[0m\u001b[0m\n\u001b[0m\u001b[1;32m    389\u001b[0m         \u001b[0;32mreturn\u001b[0m \u001b[0msuper\u001b[0m\u001b[0;34m(\u001b[0m\u001b[0;34m)\u001b[0m\u001b[0;34m.\u001b[0m\u001b[0mget_loc\u001b[0m\u001b[0;34m(\u001b[0m\u001b[0mkey\u001b[0m\u001b[0;34m,\u001b[0m \u001b[0mmethod\u001b[0m\u001b[0;34m=\u001b[0m\u001b[0mmethod\u001b[0m\u001b[0;34m,\u001b[0m \u001b[0mtolerance\u001b[0m\u001b[0;34m=\u001b[0m\u001b[0mtolerance\u001b[0m\u001b[0;34m)\u001b[0m\u001b[0;34m\u001b[0m\u001b[0;34m\u001b[0m\u001b[0m\n\u001b[1;32m    390\u001b[0m \u001b[0;34m\u001b[0m\u001b[0m\n",
            "\u001b[0;31mKeyError\u001b[0m: 'atraso_15'"
          ]
        }
      ]
    }
  ]
}